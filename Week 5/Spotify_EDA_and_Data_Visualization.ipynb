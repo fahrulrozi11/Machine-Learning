{
  "metadata": {
    "kernelspec": {
      "language": "python",
      "display_name": "Python 3",
      "name": "python3"
    },
    "language_info": {
      "pygments_lexer": "ipython3",
      "nbconvert_exporter": "python",
      "version": "3.6.4",
      "file_extension": ".py",
      "codemirror_mode": {
        "name": "ipython",
        "version": 3
      },
      "name": "python",
      "mimetype": "text/x-python"
    },
    "colab": {
      "provenance": [],
      "include_colab_link": true
    }
  },
  "nbformat_minor": 0,
  "nbformat": 4,
  "cells": [
    {
      "cell_type": "markdown",
      "metadata": {
        "id": "view-in-github",
        "colab_type": "text"
      },
      "source": [
        "<a href=\"https://colab.research.google.com/github/fahrulrozi11/Machine-Learning/blob/main/Spotify_EDA_and_Data_Visualization.ipynb\" target=\"_parent\"><img src=\"https://colab.research.google.com/assets/colab-badge.svg\" alt=\"Open In Colab\"/></a>"
      ]
    },
    {
      "source": [
        "# IMPORTANT: RUN THIS CELL IN ORDER TO IMPORT YOUR KAGGLE DATA SOURCES,\n",
        "# THEN FEEL FREE TO DELETE THIS CELL.\n",
        "# NOTE: THIS NOTEBOOK ENVIRONMENT DIFFERS FROM KAGGLE'S PYTHON\n",
        "# ENVIRONMENT SO THERE MAY BE MISSING LIBRARIES USED BY YOUR\n",
        "# NOTEBOOK.\n",
        "import kagglehub\n",
        "nelgiriyewithana_top_spotify_songs_2023_path = kagglehub.dataset_download('nelgiriyewithana/top-spotify-songs-2023')\n",
        "\n",
        "print('Data source import complete.')\n"
      ],
      "metadata": {
        "id": "HAoF4OwksFwa"
      },
      "cell_type": "code",
      "outputs": [],
      "execution_count": null
    },
    {
      "cell_type": "markdown",
      "source": [
        "\n",
        "### &nbsp;&nbsp;&nbsp;&nbsp;&nbsp; 🧙‍🧙‍🧙‍🧙‍🧙‍🧙‍🧙‍🧙‍ &nbsp;&nbsp;&nbsp;&nbsp;&nbsp;&nbsp;&nbsp; 🏴‍☠️🏴‍☠️🏴‍☠️🏴‍☠️🏴‍☠️ &nbsp;&nbsp;&nbsp;&nbsp; 🌌🌌🌌🌌🌌🌌🌌\n",
        "\n",
        "### &nbsp;&nbsp;&nbsp;&nbsp;&nbsp; 🧙‍ <span style=\"color:#5E6997\"> Wizard Notebook </span> 🧙‍ &nbsp;&nbsp;&nbsp;&nbsp;&nbsp; 🏴‍☠️ &nbsp; <span style=\"color:#5E6997\"> F.G.J </span> &nbsp;&nbsp;🏴‍☠️ &nbsp;&nbsp;&nbsp; 🌌 &nbsp;&nbsp; <span style=\"color:#5E6997\"> Spaceman </span> &nbsp;&nbsp;&nbsp; 🌌 &nbsp;\n",
        "\n",
        " ### &nbsp;&nbsp;&nbsp;&nbsp;&nbsp; 🧙‍🧙‍🧙‍🧙‍🧙‍🧙‍🧙‍🧙‍ &nbsp;&nbsp;&nbsp;&nbsp;&nbsp;&nbsp;&nbsp; 🏴‍☠️🏴‍☠️🏴‍☠️🏴‍☠️🏴‍☠️  &nbsp;&nbsp;&nbsp;&nbsp; 🌌🌌🌌🌌🌌🌌🌌\n",
        "\n",
        "<br>\n",
        "    \n",
        "<br>    \n",
        "\n",
        "# <span style=\"color:#5E6997\"> Spotify Data: Top 1000 Song Case Study (Data Analysis / Python) </span>\n",
        "\n",
        "## <span style=\"color:#5E6997\"> What Does It Take to Hit the Charts </span>\n",
        "\n",
        "### **Table of Contents**\n",
        "* [<span style=\"color:#A690A4\"> 0. Executive Summary](#exe_sum)\n",
        "* [<span style=\"color:#A690A4\"> 1. Introduction](#intro)\n",
        "* [<span style=\"color:#A690A4\"> 2. Collect, Wrangle & Explore](#process)\n",
        "* [<span style=\"color:#A690A4\"> 3. Analyze & Visualization: Data Analysis](#analyze)\n",
        "\n",
        "\n",
        "    \n",
        "## <span style=\"color:#5E6997\"> Executive Summary </span> <a class=\"anchor\" id=\"exe_sum\"></a>\n",
        "    \n",
        "### Key Findings\n",
        "* Mode, Key and BPM play a bigger role than the rest.\n",
        "\n",
        "* \"Mode: Major / Minor\" plays an important role for the success of a song. It has been found that:\n",
        "    - The top 10: 70% of Majors vs 40% of Majors for the Last 10 and vs 55,32% overall.\n",
        "    - The top 50: 68% of major vs 54% for the Last 50 and vs 55,32% overall.\n",
        "    \n",
        "    \n",
        "* \"Key\": C# is the golden key. It has been found that:\n",
        "    - Top 10: 30% of C# vs 10% for the last 10 songs and 14.1% overall.\n",
        "    - Top 50: 24% of C# vs 14% for the last 50 songs.\n",
        "    - Top 100:18% of C#.\n",
        "    \n",
        "    \n",
        "* BPM matters, and not slowing down too much is the key. It has been found:\n",
        "    - Best range is between 110 and 90.\n",
        "    - Overall average is 122.\n",
        "    - Top 10 BPM: average is 117, with a high standard deviation (+34). Majority of Top 10 below 110.\n",
        "    - Top 10 BPM minimum is 90 and minimum overall is 65.\n",
        "    \n",
        "    \n",
        "* Energy Score, you need to share atleast a minimum of energy to be successful:\n",
        "    - Top 10: smallest standard deviation, ranging from 78 to 45 with an average of 59.6, smaller than the overall.\n",
        "    - Optimal range: 78 to 45\n",
        "\n",
        "    \n",
        "### Objective & Scope\n",
        "* Collect, clean & analyze Spotify dataset\n",
        "* Identify variable of interest\n",
        "* Allow businesses to make data-driven decisions based on the given dataset\n",
        "* Share findings and insights\n",
        "    \n",
        "### Methodology\n",
        "* **Collect** data using \"top-spotify-songs-2023\"\n",
        "* **Wrangle** data using preprocessing, cleaning, transforming and organizing data for further analysis including predictive.\n",
        "* **Explore** data using available techniques\n",
        "* **Visualize** data to uncover insightful discoveries\n",
        "   \n",
        "\n",
        "## <span style=\"color:#5E6997\"> Introduction </span> <a class=\"anchor\" id=\"intro\"></a>\n",
        "    \n",
        "**Leading questions are:**\n",
        "1. What makes a song, a good song according to the dataset?\n",
        "2. Can we identify variables of interest that can be used to predict wether or not (True or False) a song will make it the top top 50, top 100, top 500?\n",
        "3. Can the data be transformed for Binary Classification algorithms ?\n",
        "    \n",
        "**Data Source**:\n",
        "Data has been grabbed using Spotify API by Nidula Elgiriyewithana.\n",
        "    \n",
        "**Preface**:\n",
        "I am conducting this analysis for fun and for \"sport\" as a training. I am considering this as Part 1, and Part 2 will be the predictive modeling. Also for the ones that are learning, I believe you will find some valuable information within this notebook.\n",
        "Enjoy."
      ],
      "metadata": {
        "id": "ie2Qq63LsFwc"
      }
    },
    {
      "cell_type": "markdown",
      "source": [
        "<br>\n",
        "\n",
        "                 ⚜️                                                     🦅\n",
        "               _______                                                ________\n",
        "              |_______|                                              |________|\n",
        "             /_________\\                                            /__________\\\n",
        "            /____________\\                                         /____________\\\n",
        "           |____|    |____|                                       |____|    |____|\n",
        "          /_____/____\\_____\\                                     /_____/____\\_____\\\n",
        "         /_____/______\\______\\                                  /_____/______\\______\\\n",
        "        /_____/________\\______\\                                /_____/________\\______\\\n",
        "       /_____/__________\\______\\                              /_____/__________\\______\\\n",
        "    __/_____/____________\\______\\__                        __/_____/____________\\______\\__\n",
        "    \n",
        "<br>   "
      ],
      "metadata": {
        "id": "nESBhKpzsFwg"
      }
    },
    {
      "cell_type": "markdown",
      "source": [
        "# <span style=\"color:#5E6997\"> Collect, Wrangle & Explore </span> <a class=\"anchor\" id=\"process\"></a>\n"
      ],
      "metadata": {
        "id": "07bddMPtsFwh"
      }
    },
    {
      "cell_type": "code",
      "source": [
        "import numpy as np\n",
        "import pandas as pd\n",
        "import matplotlib.pyplot as plt\n",
        "from mpl_toolkits.mplot3d import Axes3D\n",
        "import seaborn as sns\n",
        "import statsmodels.api as sm\n",
        "from scipy.stats import pearsonr\n",
        "from scipy import stats\n",
        "from sklearn.preprocessing import MinMaxScaler\n"
      ],
      "metadata": {
        "_uuid": "8f2839f25d086af736a60e9eeb907d3b93b6e0e5",
        "_cell_guid": "b1076dfc-b9ad-4769-8c92-a6c4dae69d19",
        "_kg_hide-input": true,
        "execution": {
          "iopub.status.busy": "2023-10-21T04:06:31.496251Z",
          "iopub.execute_input": "2023-10-21T04:06:31.496578Z",
          "iopub.status.idle": "2023-10-21T04:06:35.51394Z",
          "shell.execute_reply.started": "2023-10-21T04:06:31.496553Z",
          "shell.execute_reply": "2023-10-21T04:06:35.512474Z"
        },
        "trusted": true,
        "id": "u0bGGvKrsFwi"
      },
      "execution_count": null,
      "outputs": []
    },
    {
      "cell_type": "code",
      "source": [
        "df = pd.read_csv('/kaggle/input/top-spotify-songs-2023/spotify-2023.csv', encoding='ISO-8859-1')\n",
        "#df_2 = pd.read_csv('/kaggle/input/top-spotify-songs-2023/spotify-2023.csv', encoding='ISO-8859-1')\n",
        "\n",
        "df.head()"
      ],
      "metadata": {
        "execution": {
          "iopub.status.busy": "2023-10-21T04:06:35.516556Z",
          "iopub.execute_input": "2023-10-21T04:06:35.517128Z",
          "iopub.status.idle": "2023-10-21T04:06:35.587154Z",
          "shell.execute_reply.started": "2023-10-21T04:06:35.517097Z",
          "shell.execute_reply": "2023-10-21T04:06:35.586065Z"
        },
        "trusted": true,
        "id": "DDx0J3qRsFwi"
      },
      "execution_count": null,
      "outputs": []
    },
    {
      "cell_type": "code",
      "source": [
        "df.info()"
      ],
      "metadata": {
        "execution": {
          "iopub.status.busy": "2023-10-21T04:06:35.588267Z",
          "iopub.execute_input": "2023-10-21T04:06:35.589209Z",
          "iopub.status.idle": "2023-10-21T04:06:35.61795Z",
          "shell.execute_reply.started": "2023-10-21T04:06:35.589177Z",
          "shell.execute_reply": "2023-10-21T04:06:35.616899Z"
        },
        "trusted": true,
        "id": "ePPBktQ9sFwj"
      },
      "execution_count": null,
      "outputs": []
    },
    {
      "cell_type": "code",
      "source": [
        "df.columns"
      ],
      "metadata": {
        "execution": {
          "iopub.status.busy": "2023-10-21T04:06:35.620557Z",
          "iopub.execute_input": "2023-10-21T04:06:35.620978Z",
          "iopub.status.idle": "2023-10-21T04:06:35.637009Z",
          "shell.execute_reply.started": "2023-10-21T04:06:35.620918Z",
          "shell.execute_reply": "2023-10-21T04:06:35.635939Z"
        },
        "trusted": true,
        "id": "NEyGpzbusFwk"
      },
      "execution_count": null,
      "outputs": []
    },
    {
      "cell_type": "code",
      "source": [
        "nan_values = df.isna()\n",
        "print(nan_values)"
      ],
      "metadata": {
        "execution": {
          "iopub.status.busy": "2023-10-21T04:06:35.638569Z",
          "iopub.execute_input": "2023-10-21T04:06:35.63896Z",
          "iopub.status.idle": "2023-10-21T04:06:35.664342Z",
          "shell.execute_reply.started": "2023-10-21T04:06:35.638904Z",
          "shell.execute_reply": "2023-10-21T04:06:35.66322Z"
        },
        "trusted": true,
        "id": "rdaeWuR7sFwk"
      },
      "execution_count": null,
      "outputs": []
    },
    {
      "cell_type": "code",
      "source": [
        "any_missing_values = nan_values.any().any()\n",
        "\n",
        "any_missing_values_in_column = nan_values.any()\n",
        "\n",
        "missing_value_count = df.isnull().sum()\n",
        "\n",
        "for column, has_missing in any_missing_values_in_column.items():\n",
        "    if has_missing:\n",
        "        count = missing_value_count[column]\n",
        "        print(f\"-----> Column '{column}' has {count} missing values.\")\n",
        "\n",
        "print(\"\\nMissing Values in the Entire DataFrame?\")\n",
        "print(any_missing_values)\n",
        "\n",
        "print(\"\\nMissing Values in Each Column?\")\n",
        "print(any_missing_values_in_column)\n",
        "\n",
        "print(\"\\nMissing Value Counts in Each Column:\")\n",
        "print(missing_value_count)"
      ],
      "metadata": {
        "_kg_hide-input": false,
        "execution": {
          "iopub.status.busy": "2023-10-21T04:06:35.667038Z",
          "iopub.execute_input": "2023-10-21T04:06:35.667829Z",
          "iopub.status.idle": "2023-10-21T04:06:35.685894Z",
          "shell.execute_reply.started": "2023-10-21T04:06:35.667793Z",
          "shell.execute_reply": "2023-10-21T04:06:35.684664Z"
        },
        "trusted": true,
        "id": "8eweNUNesFwl"
      },
      "execution_count": null,
      "outputs": []
    },
    {
      "cell_type": "code",
      "source": [
        "df = df.dropna(subset=['key'])"
      ],
      "metadata": {
        "execution": {
          "iopub.status.busy": "2023-10-21T04:06:35.688179Z",
          "iopub.execute_input": "2023-10-21T04:06:35.688956Z",
          "iopub.status.idle": "2023-10-21T04:06:35.706988Z",
          "shell.execute_reply.started": "2023-10-21T04:06:35.688894Z",
          "shell.execute_reply": "2023-10-21T04:06:35.70575Z"
        },
        "trusted": true,
        "id": "KAfWDLEYsFwm"
      },
      "execution_count": null,
      "outputs": []
    },
    {
      "cell_type": "code",
      "source": [
        "# DROP NA USED\n",
        "# DROP NA USED\n",
        "df.dropna(inplace=True)\n"
      ],
      "metadata": {
        "execution": {
          "iopub.status.busy": "2023-10-21T04:06:35.70863Z",
          "iopub.execute_input": "2023-10-21T04:06:35.709343Z",
          "iopub.status.idle": "2023-10-21T04:06:35.722829Z",
          "shell.execute_reply.started": "2023-10-21T04:06:35.709302Z",
          "shell.execute_reply": "2023-10-21T04:06:35.721356Z"
        },
        "trusted": true,
        "id": "yNXj5wKIsFwm"
      },
      "execution_count": null,
      "outputs": []
    },
    {
      "cell_type": "markdown",
      "source": [
        "**DROPNA USED ON DF**"
      ],
      "metadata": {
        "id": "vvigdBBFsFwm"
      }
    },
    {
      "cell_type": "code",
      "source": [
        "df['streams'] = pd.to_numeric(df['streams'], errors='coerce')"
      ],
      "metadata": {
        "execution": {
          "iopub.status.busy": "2023-10-21T04:06:35.724499Z",
          "iopub.execute_input": "2023-10-21T04:06:35.725094Z",
          "iopub.status.idle": "2023-10-21T04:06:35.741099Z",
          "shell.execute_reply.started": "2023-10-21T04:06:35.725063Z",
          "shell.execute_reply": "2023-10-21T04:06:35.739428Z"
        },
        "trusted": true,
        "id": "OYuPotvQsFwn"
      },
      "execution_count": null,
      "outputs": []
    },
    {
      "cell_type": "code",
      "source": [
        "df.info()"
      ],
      "metadata": {
        "execution": {
          "iopub.status.busy": "2023-10-21T04:06:35.745192Z",
          "iopub.execute_input": "2023-10-21T04:06:35.745586Z",
          "iopub.status.idle": "2023-10-21T04:06:35.764001Z",
          "shell.execute_reply.started": "2023-10-21T04:06:35.745554Z",
          "shell.execute_reply": "2023-10-21T04:06:35.762424Z"
        },
        "trusted": true,
        "id": "WZ-YG1GAsFwn"
      },
      "execution_count": null,
      "outputs": []
    },
    {
      "cell_type": "code",
      "source": [
        "track_name_to_id = {name: idx for idx, name in enumerate(df['track_name'].unique())}\n",
        "\n",
        "df['track_id'] = df['track_name'].map(track_name_to_id)\n",
        "df.drop(columns=['track_name'], inplace=True)"
      ],
      "metadata": {
        "execution": {
          "iopub.status.busy": "2023-10-21T04:06:35.765625Z",
          "iopub.execute_input": "2023-10-21T04:06:35.766075Z",
          "iopub.status.idle": "2023-10-21T04:06:35.780773Z",
          "shell.execute_reply.started": "2023-10-21T04:06:35.766036Z",
          "shell.execute_reply": "2023-10-21T04:06:35.780011Z"
        },
        "trusted": true,
        "id": "SEPfqvQ1sFwn"
      },
      "execution_count": null,
      "outputs": []
    },
    {
      "cell_type": "code",
      "source": [
        "voi_col = ['track_id', 'streams','bpm', 'key', 'mode', 'danceability_%', 'valence_%', 'energy_%', 'acousticness_%', 'instrumentalness_%', 'liveness_%', 'speechiness_%']\n",
        "df_voi = df[voi_col]\n",
        "df_voi.head()"
      ],
      "metadata": {
        "execution": {
          "iopub.status.busy": "2023-10-21T04:06:35.781978Z",
          "iopub.execute_input": "2023-10-21T04:06:35.78301Z",
          "iopub.status.idle": "2023-10-21T04:06:35.801027Z",
          "shell.execute_reply.started": "2023-10-21T04:06:35.782976Z",
          "shell.execute_reply": "2023-10-21T04:06:35.800168Z"
        },
        "trusted": true,
        "id": "HCYei_aZsFwn"
      },
      "execution_count": null,
      "outputs": []
    },
    {
      "cell_type": "code",
      "source": [
        "#label encoding or one hot encoding?\n",
        "df_features = df_voi\n",
        "df_features = pd.get_dummies(df_voi, columns=['key', 'mode'], prefix=['key', 'mode'])"
      ],
      "metadata": {
        "execution": {
          "iopub.status.busy": "2023-10-21T04:06:35.80269Z",
          "iopub.execute_input": "2023-10-21T04:06:35.803134Z",
          "iopub.status.idle": "2023-10-21T04:06:35.811639Z",
          "shell.execute_reply.started": "2023-10-21T04:06:35.803108Z",
          "shell.execute_reply": "2023-10-21T04:06:35.810674Z"
        },
        "trusted": true,
        "id": "oSplGQemsFwo"
      },
      "execution_count": null,
      "outputs": []
    },
    {
      "cell_type": "code",
      "source": [
        "df_features.head()"
      ],
      "metadata": {
        "execution": {
          "iopub.status.busy": "2023-10-21T04:06:35.812916Z",
          "iopub.execute_input": "2023-10-21T04:06:35.813263Z",
          "iopub.status.idle": "2023-10-21T04:06:35.839674Z",
          "shell.execute_reply.started": "2023-10-21T04:06:35.813234Z",
          "shell.execute_reply": "2023-10-21T04:06:35.838408Z"
        },
        "trusted": true,
        "id": "GGcualhEsFwo"
      },
      "execution_count": null,
      "outputs": []
    },
    {
      "cell_type": "code",
      "source": [
        "#df_features = df_features.apply(pd.to_numeric, errors='coerce')"
      ],
      "metadata": {
        "execution": {
          "iopub.status.busy": "2023-10-21T04:06:35.841136Z",
          "iopub.execute_input": "2023-10-21T04:06:35.842192Z",
          "iopub.status.idle": "2023-10-21T04:06:35.85706Z",
          "shell.execute_reply.started": "2023-10-21T04:06:35.842158Z",
          "shell.execute_reply": "2023-10-21T04:06:35.855917Z"
        },
        "trusted": true,
        "id": "o-FQrRrwsFwo"
      },
      "execution_count": null,
      "outputs": []
    },
    {
      "cell_type": "code",
      "source": [
        "#rename columns of interests\n",
        "re_col = {\n",
        "    'danceability_%': 'danceability',\n",
        "    'valence_%': 'valence',\n",
        "    'energy_%': 'energy',\n",
        "    'acousticness_%': 'acousticness',\n",
        "    'instrumentalness_%': 'instrumentalness',\n",
        "    'liveness_%': 'liveness',\n",
        "    'speechiness_%': 'speechiness'\n",
        "}\n",
        "\n",
        "df_features.rename(columns=re_col, inplace=True)\n",
        "df_features.head()"
      ],
      "metadata": {
        "_kg_hide-input": false,
        "execution": {
          "iopub.status.busy": "2023-10-21T04:06:35.860236Z",
          "iopub.execute_input": "2023-10-21T04:06:35.860705Z",
          "iopub.status.idle": "2023-10-21T04:06:35.888084Z",
          "shell.execute_reply.started": "2023-10-21T04:06:35.860673Z",
          "shell.execute_reply": "2023-10-21T04:06:35.887156Z"
        },
        "trusted": true,
        "id": "fDRV1zxKsFwo"
      },
      "execution_count": null,
      "outputs": []
    },
    {
      "cell_type": "markdown",
      "source": [
        "# <span style=\"color:#5E6997\"> Analyze & Visualization: Data Analysis </span> <a class=\"anchor\" id=\"analyze\"></a>\n"
      ],
      "metadata": {
        "id": "rUn6wQccsFwo"
      }
    },
    {
      "cell_type": "code",
      "source": [
        "df_da = df_features.drop(columns=['track_id'])\n",
        "df_da.head()"
      ],
      "metadata": {
        "execution": {
          "iopub.status.busy": "2023-10-21T04:06:35.889517Z",
          "iopub.execute_input": "2023-10-21T04:06:35.890127Z",
          "iopub.status.idle": "2023-10-21T04:06:35.917469Z",
          "shell.execute_reply.started": "2023-10-21T04:06:35.89009Z",
          "shell.execute_reply": "2023-10-21T04:06:35.91522Z"
        },
        "trusted": true,
        "id": "tljfUL8lsFwo"
      },
      "execution_count": null,
      "outputs": []
    },
    {
      "cell_type": "code",
      "source": [
        "#df_da = df_features.astype(int)"
      ],
      "metadata": {
        "execution": {
          "iopub.status.busy": "2023-10-21T04:06:35.918773Z",
          "iopub.execute_input": "2023-10-21T04:06:35.919493Z",
          "iopub.status.idle": "2023-10-21T04:06:35.925386Z",
          "shell.execute_reply.started": "2023-10-21T04:06:35.919456Z",
          "shell.execute_reply": "2023-10-21T04:06:35.923624Z"
        },
        "trusted": true,
        "id": "om_xVbcYsFwp"
      },
      "execution_count": null,
      "outputs": []
    },
    {
      "cell_type": "code",
      "source": [
        "df_da.describe()"
      ],
      "metadata": {
        "execution": {
          "iopub.status.busy": "2023-10-21T04:06:35.927698Z",
          "iopub.execute_input": "2023-10-21T04:06:35.928529Z",
          "iopub.status.idle": "2023-10-21T04:06:35.973968Z",
          "shell.execute_reply.started": "2023-10-21T04:06:35.928487Z",
          "shell.execute_reply": "2023-10-21T04:06:35.972301Z"
        },
        "trusted": true,
        "id": "c-1cpfK3sFwp"
      },
      "execution_count": null,
      "outputs": []
    },
    {
      "cell_type": "code",
      "source": [
        "binary_columns = ['key_A', 'key_A#', 'key_B', 'key_C#', 'key_D', 'key_D#', 'key_E', 'key_F', 'key_F#', 'key_G', 'key_G#', 'mode_Major', 'mode_Minor']\n",
        "\n",
        "for column in binary_columns:\n",
        "    df_da[column] = df_da[column].astype(int)\n",
        "print(df_da.head())"
      ],
      "metadata": {
        "execution": {
          "iopub.status.busy": "2023-10-21T04:06:35.975522Z",
          "iopub.execute_input": "2023-10-21T04:06:35.976244Z",
          "iopub.status.idle": "2023-10-21T04:06:35.993517Z",
          "shell.execute_reply.started": "2023-10-21T04:06:35.976211Z",
          "shell.execute_reply": "2023-10-21T04:06:35.991583Z"
        },
        "trusted": true,
        "id": "_nEeM7G-sFwp"
      },
      "execution_count": null,
      "outputs": []
    },
    {
      "cell_type": "code",
      "source": [
        "df_da = df_da.astype(float)\n",
        "df_da.head()"
      ],
      "metadata": {
        "execution": {
          "iopub.status.busy": "2023-10-21T04:06:35.99511Z",
          "iopub.execute_input": "2023-10-21T04:06:35.996323Z",
          "iopub.status.idle": "2023-10-21T04:06:36.027681Z",
          "shell.execute_reply.started": "2023-10-21T04:06:35.99629Z",
          "shell.execute_reply": "2023-10-21T04:06:36.026346Z"
        },
        "trusted": true,
        "id": "Ag4IkfRCsFwp"
      },
      "execution_count": null,
      "outputs": []
    },
    {
      "cell_type": "code",
      "source": [
        "df_da.shape"
      ],
      "metadata": {
        "execution": {
          "iopub.status.busy": "2023-10-21T04:06:36.029201Z",
          "iopub.execute_input": "2023-10-21T04:06:36.029503Z",
          "iopub.status.idle": "2023-10-21T04:06:36.036077Z",
          "shell.execute_reply.started": "2023-10-21T04:06:36.029479Z",
          "shell.execute_reply": "2023-10-21T04:06:36.034985Z"
        },
        "trusted": true,
        "id": "8lf9eX0ZsFwp"
      },
      "execution_count": null,
      "outputs": []
    },
    {
      "cell_type": "code",
      "source": [
        "scaler = MinMaxScaler()\n",
        "\n",
        "df_da['streams'] = scaler.fit_transform(df_da[['streams']])\n",
        "print(df_da.head())"
      ],
      "metadata": {
        "execution": {
          "iopub.status.busy": "2023-10-21T04:06:36.037431Z",
          "iopub.execute_input": "2023-10-21T04:06:36.037802Z",
          "iopub.status.idle": "2023-10-21T04:06:36.063187Z",
          "shell.execute_reply.started": "2023-10-21T04:06:36.037771Z",
          "shell.execute_reply": "2023-10-21T04:06:36.061952Z"
        },
        "trusted": true,
        "id": "EjzPfcpzsFwq"
      },
      "execution_count": null,
      "outputs": []
    },
    {
      "cell_type": "code",
      "source": [
        "columns_to_plot = ['bpm', 'danceability', 'valence', 'energy', 'acousticness', 'instrumentalness', 'liveness', 'speechiness']\n",
        "\n",
        "for i, column in enumerate(columns_to_plot, 1):\n",
        "    plt.subplot(3, 3, i)\n",
        "    sns.histplot(data=df_da, x=column, bins=20, color='blue')\n",
        "    plt.xlabel(column, fontsize=12)\n",
        "    plt.ylabel(\"Score\", fontsize=12)\n",
        "\n",
        "plt.tight_layout()\n",
        "plt.show()"
      ],
      "metadata": {
        "_kg_hide-input": true,
        "execution": {
          "iopub.status.busy": "2023-10-21T04:06:36.064696Z",
          "iopub.execute_input": "2023-10-21T04:06:36.065102Z",
          "iopub.status.idle": "2023-10-21T04:06:37.371221Z",
          "shell.execute_reply.started": "2023-10-21T04:06:36.065069Z",
          "shell.execute_reply": "2023-10-21T04:06:37.369898Z"
        },
        "trusted": true,
        "id": "-C-7p9RpsFwq"
      },
      "execution_count": null,
      "outputs": []
    },
    {
      "cell_type": "code",
      "source": [
        "columns_to_correlate = ['bpm', 'danceability', 'valence', 'energy', 'acousticness', 'instrumentalness', 'liveness', 'speechiness', 'streams']\n",
        "\n",
        "correlation_matrix = df_da[columns_to_correlate].corr()\n",
        "print(correlation_matrix)"
      ],
      "metadata": {
        "execution": {
          "iopub.status.busy": "2023-10-21T04:06:37.37265Z",
          "iopub.execute_input": "2023-10-21T04:06:37.372992Z",
          "iopub.status.idle": "2023-10-21T04:06:37.387983Z",
          "shell.execute_reply.started": "2023-10-21T04:06:37.372963Z",
          "shell.execute_reply": "2023-10-21T04:06:37.386853Z"
        },
        "trusted": true,
        "id": "rt7EGMywsFwq"
      },
      "execution_count": null,
      "outputs": []
    },
    {
      "cell_type": "code",
      "source": [
        "columns_to_correlate = ['bpm', 'danceability', 'valence', 'energy', 'acousticness', 'instrumentalness', 'liveness', 'speechiness', 'streams']\n",
        "\n",
        "correlation_matrix = df_da[columns_to_correlate].corr()\n",
        "\n",
        "plt.figure(figsize=(10, 8))\n",
        "sns.heatmap(correlation_matrix, annot=True, cmap='coolwarm', fmt=\".2f\", square=True)\n",
        "\n",
        "plt.title(\"Correlation Heatmap\")\n",
        "plt.show()"
      ],
      "metadata": {
        "_kg_hide-input": true,
        "execution": {
          "iopub.status.busy": "2023-10-21T04:06:37.389192Z",
          "iopub.execute_input": "2023-10-21T04:06:37.389654Z",
          "iopub.status.idle": "2023-10-21T04:06:37.873701Z",
          "shell.execute_reply.started": "2023-10-21T04:06:37.38963Z",
          "shell.execute_reply": "2023-10-21T04:06:37.8727Z"
        },
        "trusted": true,
        "id": "QYa2oaNIsFwq"
      },
      "execution_count": null,
      "outputs": []
    },
    {
      "cell_type": "code",
      "source": [
        "columns_to_plot = ['bpm', 'danceability', 'valence', 'energy', 'acousticness', 'instrumentalness', 'liveness', 'speechiness']\n",
        "\n",
        "fig, axes = plt.subplots(3, 3, figsize=(16, 12))\n",
        "\n",
        "axes = axes.flatten()\n",
        "\n",
        "for i, column in enumerate(columns_to_plot):\n",
        "    plt.sca(axes[i])\n",
        "    plt.bar(df_da[column], df_da['streams'], color='blue')\n",
        "    plt.xlabel(column, fontsize=12)\n",
        "    plt.ylabel('Streams', fontsize=12)\n",
        "    plt.title(f'Streams vs. {column}', fontsize=14)\n",
        "    plt.grid(axis='y')\n",
        "plt.tight_layout()\n",
        "plt.show()\n"
      ],
      "metadata": {
        "_kg_hide-input": true,
        "execution": {
          "iopub.status.busy": "2023-10-21T04:06:37.875419Z",
          "iopub.execute_input": "2023-10-21T04:06:37.876123Z",
          "iopub.status.idle": "2023-10-21T04:06:47.928095Z",
          "shell.execute_reply.started": "2023-10-21T04:06:37.876086Z",
          "shell.execute_reply": "2023-10-21T04:06:47.92699Z"
        },
        "trusted": true,
        "id": "2b00GzySsFwr"
      },
      "execution_count": null,
      "outputs": []
    },
    {
      "cell_type": "code",
      "source": [
        "columns_to_plot = ['danceability', 'valence', 'energy', 'acousticness', 'instrumentalness', 'liveness', 'speechiness']\n",
        "\n",
        "fig, axes = plt.subplots(3, 3, figsize=(16, 12))\n",
        "axes = axes.flatten()\n",
        "colormap = plt.cm.get_cmap('viridis')\n",
        "\n",
        "for i, column in enumerate(columns_to_plot):\n",
        "    plt.sca(axes[i])\n",
        "\n",
        "    scatter = plt.scatter(df_da[column], df_da['streams'], c=df_da[column], cmap=colormap, alpha=0.5)\n",
        "\n",
        "    plt.xlabel(column, fontsize=12)\n",
        "    plt.ylabel('Streams', fontsize=12)\n",
        "    plt.title(f'Streams vs. {column}', fontsize=14)\n",
        "    plt.grid(True)\n",
        "    plt.colorbar(scatter, label=column)\n",
        "\n",
        "for j in range(len(columns_to_plot), len(axes)):\n",
        "    fig.delaxes(axes[j])\n",
        "\n",
        "plt.tight_layout()\n",
        "plt.show()\n"
      ],
      "metadata": {
        "_kg_hide-input": true,
        "execution": {
          "iopub.status.busy": "2023-10-21T04:06:47.93662Z",
          "iopub.execute_input": "2023-10-21T04:06:47.936956Z",
          "iopub.status.idle": "2023-10-21T04:06:50.019797Z",
          "shell.execute_reply.started": "2023-10-21T04:06:47.936917Z",
          "shell.execute_reply": "2023-10-21T04:06:50.018439Z"
        },
        "trusted": true,
        "id": "ic2a0HO6sFwr"
      },
      "execution_count": null,
      "outputs": []
    },
    {
      "cell_type": "code",
      "source": [
        "df_da = df_da.merge(df[['key']], left_index=True, right_index=True, how='inner')\n",
        "df_da.head()"
      ],
      "metadata": {
        "execution": {
          "iopub.status.busy": "2023-10-21T04:06:50.021202Z",
          "iopub.execute_input": "2023-10-21T04:06:50.021491Z",
          "iopub.status.idle": "2023-10-21T04:06:50.051564Z",
          "shell.execute_reply.started": "2023-10-21T04:06:50.021465Z",
          "shell.execute_reply": "2023-10-21T04:06:50.050816Z"
        },
        "trusted": true,
        "id": "tgFi_Wc3sFwr"
      },
      "execution_count": null,
      "outputs": []
    },
    {
      "cell_type": "code",
      "source": [
        "palette = sns.color_palette(\"Set2\", len(df_da['key'].unique()))\n",
        "\n",
        "sns.catplot(y=\"key\", x=\"streams\", data=df_da, aspect=2, palette=palette)\n",
        "plt.xlabel(\"Streams\", fontsize=20)\n",
        "plt.ylabel(\"Keys\", fontsize=20)\n",
        "plt.show()"
      ],
      "metadata": {
        "_kg_hide-input": true,
        "execution": {
          "iopub.status.busy": "2023-10-21T04:06:50.05274Z",
          "iopub.execute_input": "2023-10-21T04:06:50.054198Z",
          "iopub.status.idle": "2023-10-21T04:06:50.379508Z",
          "shell.execute_reply.started": "2023-10-21T04:06:50.054155Z",
          "shell.execute_reply": "2023-10-21T04:06:50.378026Z"
        },
        "trusted": true,
        "id": "Rpf9jSjHsFws"
      },
      "execution_count": null,
      "outputs": []
    },
    {
      "cell_type": "code",
      "source": [
        "palette = sns.color_palette(\"Set2\", len(df_da['key'].unique()))\n",
        "\n",
        "sorted_keys = sorted(df_da['key'].unique())\n",
        "plt.figure(figsize=(12, 6))\n",
        "sns.boxplot(y=\"key\", x=\"streams\", data=df_da, order=sorted_keys, palette=palette)\n",
        "plt.xlabel(\"Streams\", fontsize=20)\n",
        "plt.ylabel(\"Keys\", fontsize=20)\n",
        "plt.title(\"Box Plot of Streams by Keys\", fontsize=20)\n",
        "plt.show()"
      ],
      "metadata": {
        "_kg_hide-input": true,
        "execution": {
          "iopub.status.busy": "2023-10-21T04:06:50.380877Z",
          "iopub.execute_input": "2023-10-21T04:06:50.381231Z",
          "iopub.status.idle": "2023-10-21T04:06:51.324183Z",
          "shell.execute_reply.started": "2023-10-21T04:06:50.381202Z",
          "shell.execute_reply": "2023-10-21T04:06:51.323191Z"
        },
        "trusted": true,
        "id": "BdPDix7EsFws"
      },
      "execution_count": null,
      "outputs": []
    },
    {
      "cell_type": "code",
      "source": [
        "average_streams = df_da.groupby('key')['streams'].mean().sort_values(ascending=False).index.tolist()\n",
        "\n",
        "palette = sns.color_palette(\"Set2\", len(average_streams))\n",
        "\n",
        "plt.figure(figsize=(12, 6))\n",
        "sns.boxplot(y=\"key\", x=\"streams\", data=df_da, order=average_streams, palette=palette)\n",
        "plt.xlabel(\"Streams\", fontsize=20)\n",
        "plt.ylabel(\"Keys\", fontsize=20)\n",
        "plt.title(\"Box Plot of Streams by Keys (Sorted by Averaged Streams per Key)\", fontsize=20)\n",
        "plt.show()"
      ],
      "metadata": {
        "_kg_hide-input": true,
        "execution": {
          "iopub.status.busy": "2023-10-21T04:06:51.325381Z",
          "iopub.execute_input": "2023-10-21T04:06:51.325654Z",
          "iopub.status.idle": "2023-10-21T04:06:51.645745Z",
          "shell.execute_reply.started": "2023-10-21T04:06:51.325628Z",
          "shell.execute_reply": "2023-10-21T04:06:51.644652Z"
        },
        "trusted": true,
        "id": "Nj1izf8XsFws"
      },
      "execution_count": null,
      "outputs": []
    },
    {
      "cell_type": "code",
      "source": [
        "plt.figure(figsize=(8, 6))\n",
        "sns.countplot(x=\"key\", data=df_da, palette=\"Set2\")\n",
        "plt.xlabel(\"Keys\", fontsize=14)\n",
        "plt.ylabel(\"Count\", fontsize=14)\n",
        "plt.title(\"Count of Each Key\", fontsize=16)\n",
        "plt.show()"
      ],
      "metadata": {
        "_kg_hide-input": true,
        "execution": {
          "iopub.status.busy": "2023-10-21T04:06:51.647491Z",
          "iopub.execute_input": "2023-10-21T04:06:51.647855Z",
          "iopub.status.idle": "2023-10-21T04:06:51.861271Z",
          "shell.execute_reply.started": "2023-10-21T04:06:51.647825Z",
          "shell.execute_reply": "2023-10-21T04:06:51.85927Z"
        },
        "trusted": true,
        "id": "vB-rhP1osFws"
      },
      "execution_count": null,
      "outputs": []
    },
    {
      "cell_type": "code",
      "source": [
        "key_counts = df_da['key'].value_counts().reset_index()\n",
        "key_counts.columns = ['Key', 'Count']\n",
        "\n",
        "total_count_key = key_counts['Count'].sum()\n",
        "total_row = pd.DataFrame({'Key': ['Total'], 'Count': [total_count_key]})\n",
        "key_counts = pd.concat([key_counts, total_row])\n",
        "\n",
        "#------------------------\n",
        "\n",
        "total_counts = df_da['key'].count()\n",
        "\n",
        "is_equal = total_counts == key_counts[key_counts['Key'] == 'Total']['Count'].values[0]\n",
        "print(\"Is total_count equal to 'Total'Key? \", is_equal)\n",
        "\n",
        "print(\"Total count of values in the 'key' column:\", total_counts)\n",
        "print(key_counts)\n"
      ],
      "metadata": {
        "_kg_hide-input": true,
        "execution": {
          "iopub.status.busy": "2023-10-21T04:06:51.86309Z",
          "iopub.execute_input": "2023-10-21T04:06:51.863419Z",
          "iopub.status.idle": "2023-10-21T04:06:51.875812Z",
          "shell.execute_reply.started": "2023-10-21T04:06:51.86339Z",
          "shell.execute_reply": "2023-10-21T04:06:51.875065Z"
        },
        "trusted": true,
        "id": "6trPySKDsFwy"
      },
      "execution_count": null,
      "outputs": []
    },
    {
      "cell_type": "code",
      "source": [
        "key_counts = key_counts[key_counts['Key'] != 'Total']\n",
        "key_counts.info"
      ],
      "metadata": {
        "execution": {
          "iopub.status.busy": "2023-10-21T04:06:51.876905Z",
          "iopub.execute_input": "2023-10-21T04:06:51.877335Z",
          "iopub.status.idle": "2023-10-21T04:06:51.895406Z",
          "shell.execute_reply.started": "2023-10-21T04:06:51.877312Z",
          "shell.execute_reply": "2023-10-21T04:06:51.894104Z"
        },
        "trusted": true,
        "id": "zfazze_XsFwy"
      },
      "execution_count": null,
      "outputs": []
    },
    {
      "cell_type": "code",
      "source": [
        "df_da.columns = df_da.columns.str.lower()\n",
        "key_counts.columns = key_counts.columns.str.lower()"
      ],
      "metadata": {
        "execution": {
          "iopub.status.busy": "2023-10-21T04:06:51.896595Z",
          "iopub.execute_input": "2023-10-21T04:06:51.896861Z",
          "iopub.status.idle": "2023-10-21T04:06:51.909343Z",
          "shell.execute_reply.started": "2023-10-21T04:06:51.896838Z",
          "shell.execute_reply": "2023-10-21T04:06:51.908031Z"
        },
        "trusted": true,
        "id": "7TJYX3cRsFwz"
      },
      "execution_count": null,
      "outputs": []
    },
    {
      "cell_type": "code",
      "source": [
        "merged_df = key_counts.merge(df_da, on='key')\n",
        "result_df = merged_df.groupby('key')['streams'].agg(['mean', 'min', 'max']).reset_index()\n",
        "result_df = result_df.rename(columns={'mean': 'avg_streams', 'min': 'min_streams', 'max': 'max_streams'})"
      ],
      "metadata": {
        "execution": {
          "iopub.status.busy": "2023-10-21T04:06:51.91139Z",
          "iopub.execute_input": "2023-10-21T04:06:51.911897Z",
          "iopub.status.idle": "2023-10-21T04:06:51.939477Z",
          "shell.execute_reply.started": "2023-10-21T04:06:51.911853Z",
          "shell.execute_reply": "2023-10-21T04:06:51.938361Z"
        },
        "trusted": true,
        "id": "k9OuTgwusFwz"
      },
      "execution_count": null,
      "outputs": []
    },
    {
      "cell_type": "code",
      "source": [
        "result_df.head()"
      ],
      "metadata": {
        "execution": {
          "iopub.status.busy": "2023-10-21T04:06:51.940794Z",
          "iopub.execute_input": "2023-10-21T04:06:51.941161Z",
          "iopub.status.idle": "2023-10-21T04:06:51.95504Z",
          "shell.execute_reply.started": "2023-10-21T04:06:51.941136Z",
          "shell.execute_reply": "2023-10-21T04:06:51.95326Z"
        },
        "trusted": true,
        "id": "2S8sHKeDsFwz"
      },
      "execution_count": null,
      "outputs": []
    },
    {
      "cell_type": "code",
      "source": [
        "sorted_df = df_da.sort_values(by='streams')\n",
        "lowest_10 = sorted_df.head(10)\n",
        "\n",
        "print(\"10 Lowest Values:\")\n",
        "print(lowest_10[['key', 'streams']])\n"
      ],
      "metadata": {
        "_kg_hide-input": true,
        "execution": {
          "iopub.status.busy": "2023-10-21T04:06:51.957404Z",
          "iopub.execute_input": "2023-10-21T04:06:51.957829Z",
          "iopub.status.idle": "2023-10-21T04:06:51.971755Z",
          "shell.execute_reply.started": "2023-10-21T04:06:51.957792Z",
          "shell.execute_reply": "2023-10-21T04:06:51.970421Z"
        },
        "trusted": true,
        "id": "ivh76zsrsFwz"
      },
      "execution_count": null,
      "outputs": []
    },
    {
      "cell_type": "code",
      "source": [
        "# Bar Chart\n",
        "plt.figure(figsize=(10, 6))\n",
        "sns.barplot(x='key', y='avg_streams', data=result_df)\n",
        "plt.title('Average Streams by Key')\n",
        "plt.xticks(rotation=45)\n",
        "plt.show()\n",
        "\n",
        "# Line Chart\n",
        "plt.figure(figsize=(10, 6))\n",
        "sns.lineplot(x='key', y='value', hue='variable', data=pd.melt(result_df, id_vars='key'))\n",
        "plt.title('Average, Minimum, and Maximum Streams by Key')\n",
        "plt.xticks(rotation=45)\n",
        "plt.show()\n",
        "\n",
        "# Scat Plot\n",
        "plt.figure(figsize=(10, 6))\n",
        "sns.scatterplot(x='avg_streams', y='min_streams', hue='key', data=result_df)\n",
        "plt.title('Scatter Plot of Average vs. Minimum Streams by Key')\n",
        "plt.show()\n",
        "\n"
      ],
      "metadata": {
        "_kg_hide-input": true,
        "execution": {
          "iopub.status.busy": "2023-10-21T04:06:51.973078Z",
          "iopub.execute_input": "2023-10-21T04:06:51.973426Z",
          "iopub.status.idle": "2023-10-21T04:06:52.904818Z",
          "shell.execute_reply.started": "2023-10-21T04:06:51.973402Z",
          "shell.execute_reply": "2023-10-21T04:06:52.903284Z"
        },
        "trusted": true,
        "id": "TTkMtGbcsFw0"
      },
      "execution_count": null,
      "outputs": []
    },
    {
      "cell_type": "code",
      "source": [
        "keys = result_df['key']\n",
        "avg_streams = result_df['avg_streams']\n",
        "min_streams = result_df['min_streams']\n",
        "max_streams = result_df['max_streams']\n",
        "\n",
        "bar_width = 0.25\n",
        "\n",
        "# indexes x-axis\n",
        "x_indexes = np.arange(len(keys))\n",
        "\n",
        "plt.bar(x_indexes - bar_width, avg_streams, width=bar_width, label='Average Streams')\n",
        "plt.bar(x_indexes, min_streams, width=bar_width, label='Minimum Streams')\n",
        "plt.bar(x_indexes + bar_width, max_streams, width=bar_width, label='Maximum Streams')\n",
        "\n",
        "plt.plot(x_indexes, avg_streams, marker='o', linestyle='-', color='b', label='Average Streams Line')\n",
        "plt.xticks(x_indexes, keys)\n",
        "plt.xlabel('Keys')\n",
        "plt.ylabel('Streams')\n",
        "plt.title('Average, Minimum, and Maximum Streams by Key')\n",
        "plt.legend()\n",
        "plt.tight_layout()\n",
        "plt.show()\n"
      ],
      "metadata": {
        "_kg_hide-input": true,
        "execution": {
          "iopub.status.busy": "2023-10-21T04:06:52.907129Z",
          "iopub.execute_input": "2023-10-21T04:06:52.907617Z",
          "iopub.status.idle": "2023-10-21T04:06:53.228355Z",
          "shell.execute_reply.started": "2023-10-21T04:06:52.907578Z",
          "shell.execute_reply": "2023-10-21T04:06:53.226488Z"
        },
        "trusted": true,
        "id": "0ttb-gy6sFw0"
      },
      "execution_count": null,
      "outputs": []
    },
    {
      "cell_type": "code",
      "source": [
        "df_da.columns"
      ],
      "metadata": {
        "execution": {
          "iopub.status.busy": "2023-10-21T04:06:53.229807Z",
          "iopub.execute_input": "2023-10-21T04:06:53.230123Z",
          "iopub.status.idle": "2023-10-21T04:06:53.239648Z",
          "shell.execute_reply.started": "2023-10-21T04:06:53.2301Z",
          "shell.execute_reply": "2023-10-21T04:06:53.237995Z"
        },
        "trusted": true,
        "id": "MFrWMPbnsFw0"
      },
      "execution_count": null,
      "outputs": []
    },
    {
      "cell_type": "code",
      "source": [
        "df_da.shape"
      ],
      "metadata": {
        "execution": {
          "iopub.status.busy": "2023-10-21T04:06:53.241456Z",
          "iopub.execute_input": "2023-10-21T04:06:53.242323Z",
          "iopub.status.idle": "2023-10-21T04:06:53.251058Z",
          "shell.execute_reply.started": "2023-10-21T04:06:53.242287Z",
          "shell.execute_reply": "2023-10-21T04:06:53.250139Z"
        },
        "trusted": true,
        "id": "KMV5XXVOsFw0"
      },
      "execution_count": null,
      "outputs": []
    },
    {
      "cell_type": "code",
      "source": [
        "columns_to_plot = ['bpm', 'danceability', 'valence', 'energy', 'acousticness', 'instrumentalness', 'liveness', 'speechiness']\n",
        "\n",
        "unique_keys = df_da['key'].unique()\n",
        "\n",
        "fig, axes = plt.subplots(3, 3, figsize=(16, 12))\n",
        "axes = axes.flatten()\n",
        "\n",
        "for i, column in enumerate(columns_to_plot):\n",
        "    for key in unique_keys:\n",
        "        plt.sca(axes[i])\n",
        "        plt.scatter(df_da[df_da['key'] == key][column], df_da[df_da['key'] == key]['streams'], label=key, alpha=0.5)\n",
        "        plt.xlabel(column, fontsize=12)\n",
        "        plt.ylabel('Streams', fontsize=12)\n",
        "        plt.title(f'Streams vs. {column}', fontsize=14)\n",
        "        plt.grid(True)\n",
        "        plt.legend(title='Key', loc='upper right', bbox_to_anchor=(1.2, 1))\n",
        "\n",
        "for j in range(len(unique_keys), len(axes)):\n",
        "    fig.delaxes(axes[j])\n",
        "\n",
        "plt.tight_layout()\n",
        "plt.show()\n"
      ],
      "metadata": {
        "_kg_hide-input": true,
        "execution": {
          "iopub.status.busy": "2023-10-21T04:06:53.252379Z",
          "iopub.execute_input": "2023-10-21T04:06:53.252686Z",
          "iopub.status.idle": "2023-10-21T04:06:57.32221Z",
          "shell.execute_reply.started": "2023-10-21T04:06:53.252663Z",
          "shell.execute_reply": "2023-10-21T04:06:57.321152Z"
        },
        "trusted": true,
        "id": "rLeQYG-dsFw0"
      },
      "execution_count": null,
      "outputs": []
    },
    {
      "cell_type": "code",
      "source": [
        "columns_to_plot = ['bpm', 'danceability', 'valence', 'energy', 'acousticness', 'instrumentalness', 'liveness', 'speechiness']\n",
        "\n",
        "unique_keys = df_da['key'].unique()\n",
        "\n",
        "fig, axes = plt.subplots(3, 3, figsize=(16, 12))\n",
        "axes = axes.flatten()\n",
        "\n",
        "for i, column in enumerate(columns_to_plot):\n",
        "    for key in unique_keys:\n",
        "        plt.sca(axes[i])\n",
        "        plt.scatter(df_da[df_da['key'] == key]['key'], df_da[df_da['key'] == key][column], label=key, alpha=0.5)\n",
        "        plt.xlabel('Key', fontsize=12)\n",
        "        plt.ylabel(column, fontsize=12)\n",
        "        plt.title(f'{column} vs. Key', fontsize=14)\n",
        "        plt.grid(True)\n",
        "        plt.legend(title='Key', loc='upper right', bbox_to_anchor=(1.2, 1))\n",
        "\n",
        "for j in range(len(unique_keys), len(axes)):\n",
        "    fig.delaxes(axes[j])\n",
        "\n",
        "plt.tight_layout()\n",
        "plt.show()\n"
      ],
      "metadata": {
        "_kg_hide-input": true,
        "execution": {
          "iopub.status.busy": "2023-10-21T04:06:57.324238Z",
          "iopub.execute_input": "2023-10-21T04:06:57.324619Z",
          "iopub.status.idle": "2023-10-21T04:07:01.667976Z",
          "shell.execute_reply.started": "2023-10-21T04:06:57.324587Z",
          "shell.execute_reply": "2023-10-21T04:07:01.666425Z"
        },
        "trusted": true,
        "id": "XbmX0y14sFw1"
      },
      "execution_count": null,
      "outputs": []
    },
    {
      "cell_type": "code",
      "source": [
        "columns_to_plot = ['danceability', 'valence', 'energy', 'acousticness', 'instrumentalness', 'liveness', 'speechiness']\n",
        "\n",
        "fig, axes = plt.subplots(3, 3, figsize=(16, 12))\n",
        "axes = axes.flatten()\n",
        "\n",
        "colormap = plt.cm.get_cmap('viridis')\n",
        "\n",
        "for i, column in enumerate(columns_to_plot):\n",
        "    plt.sca(axes[i])\n",
        "\n",
        "    scatter = plt.scatter(df_da['bpm'], df_da[column], c=df_da[column], cmap=colormap, alpha=0.5)\n",
        "\n",
        "    plt.xlabel('BPM', fontsize=12)\n",
        "    plt.ylabel(column, fontsize=12)\n",
        "    plt.title(f'{column} vs. BPM', fontsize=14)\n",
        "    plt.grid(True)\n",
        "    plt.colorbar(scatter, label=column)\n",
        "\n",
        "for j in range(len(columns_to_plot), len(axes)):\n",
        "    fig.delaxes(axes[j])\n",
        "\n",
        "plt.tight_layout()\n",
        "plt.show()\n"
      ],
      "metadata": {
        "_kg_hide-input": true,
        "execution": {
          "iopub.status.busy": "2023-10-21T04:07:01.669902Z",
          "iopub.execute_input": "2023-10-21T04:07:01.670254Z",
          "iopub.status.idle": "2023-10-21T04:07:03.775198Z",
          "shell.execute_reply.started": "2023-10-21T04:07:01.670227Z",
          "shell.execute_reply": "2023-10-21T04:07:03.773662Z"
        },
        "trusted": true,
        "id": "xTxps-DDsFw1"
      },
      "execution_count": null,
      "outputs": []
    },
    {
      "cell_type": "code",
      "source": [
        "columns_to_plot = ['valence', 'energy', 'acousticness', 'instrumentalness', 'liveness', 'speechiness']\n",
        "\n",
        "fig, axes = plt.subplots(3, 2, figsize=(16, 12))\n",
        "axes = axes.flatten()\n",
        "\n",
        "colormap = plt.cm.get_cmap('viridis')\n",
        "\n",
        "for i, column in enumerate(columns_to_plot):\n",
        "    plt.sca(axes[i])\n",
        "\n",
        "    scatter = plt.scatter(df_da[column], df_da['danceability'], c=df_da['danceability'], cmap=colormap, alpha=0.5)\n",
        "\n",
        "    plt.xlabel(column, fontsize=12)\n",
        "    plt.ylabel('Danceability', fontsize=12)\n",
        "    plt.title(f'Danceability vs. {column}', fontsize=14)\n",
        "    plt.grid(True)\n",
        "    plt.colorbar(scatter, label='Danceability')\n",
        "\n",
        "for j in range(len(columns_to_plot), len(axes)):\n",
        "    fig.delaxes(axes[j])\n",
        "\n",
        "plt.tight_layout()\n",
        "plt.show()\n"
      ],
      "metadata": {
        "_kg_hide-input": true,
        "execution": {
          "iopub.status.busy": "2023-10-21T04:07:03.777162Z",
          "iopub.execute_input": "2023-10-21T04:07:03.777528Z",
          "iopub.status.idle": "2023-10-21T04:07:05.930345Z",
          "shell.execute_reply.started": "2023-10-21T04:07:03.777501Z",
          "shell.execute_reply": "2023-10-21T04:07:05.928468Z"
        },
        "trusted": true,
        "id": "YjDqu3iisFw1"
      },
      "execution_count": null,
      "outputs": []
    },
    {
      "cell_type": "code",
      "source": [
        "columns_to_plot = ['energy', 'acousticness', 'instrumentalness', 'liveness', 'speechiness']\n",
        "\n",
        "fig, axes = plt.subplots(3, 3, figsize=(16, 12))\n",
        "axes = axes.flatten()\n",
        "\n",
        "colormap = plt.cm.get_cmap('viridis')\n",
        "\n",
        "for i, column in enumerate(columns_to_plot):\n",
        "    plt.sca(axes[i])\n",
        "\n",
        "    scatter = plt.scatter(df_da[column], df_da['valence'], c=df_da['valence'], cmap=colormap, alpha=0.5)\n",
        "\n",
        "    plt.xlabel(column, fontsize=12)\n",
        "    plt.ylabel('Valence', fontsize=12)\n",
        "    plt.title(f'{column} vs. Valence', fontsize=14)\n",
        "    plt.grid(True)\n",
        "    plt.colorbar(scatter, label='Valence')\n",
        "\n",
        "for j in range(len(columns_to_plot), len(axes)):\n",
        "    fig.delaxes(axes[j])\n",
        "\n",
        "plt.tight_layout()\n",
        "plt.show()\n"
      ],
      "metadata": {
        "_kg_hide-input": true,
        "execution": {
          "iopub.status.busy": "2023-10-21T04:07:05.931637Z",
          "iopub.execute_input": "2023-10-21T04:07:05.931995Z",
          "iopub.status.idle": "2023-10-21T04:07:07.630082Z",
          "shell.execute_reply.started": "2023-10-21T04:07:05.931959Z",
          "shell.execute_reply": "2023-10-21T04:07:07.628805Z"
        },
        "trusted": true,
        "id": "4wzkCuyCsFw2"
      },
      "execution_count": null,
      "outputs": []
    },
    {
      "cell_type": "code",
      "source": [
        "columns_to_plot = ['acousticness', 'instrumentalness', 'liveness', 'speechiness']\n",
        "\n",
        "fig, axes = plt.subplots(3, 3, figsize=(16, 12))\n",
        "axes = axes.flatten()\n",
        "\n",
        "colormap = plt.cm.get_cmap('viridis')\n",
        "\n",
        "for i, column in enumerate(columns_to_plot):\n",
        "    plt.sca(axes[i])\n",
        "\n",
        "    scatter = plt.scatter(df_da['energy'], df_da[column], c=df_da['energy'], cmap=colormap, alpha=0.5)\n",
        "\n",
        "    plt.xlabel('Energy', fontsize=12)\n",
        "    plt.ylabel(column, fontsize=12)\n",
        "    plt.title(f'{column} vs. Energy', fontsize=14)\n",
        "    plt.grid(True)\n",
        "\n",
        "    plt.colorbar(scatter, label='Energy')\n",
        "\n",
        "for j in range(len(columns_to_plot), len(axes)):\n",
        "    fig.delaxes(axes[j])\n",
        "\n",
        "plt.tight_layout()\n",
        "plt.show()\n"
      ],
      "metadata": {
        "_kg_hide-input": true,
        "execution": {
          "iopub.status.busy": "2023-10-21T04:07:07.631782Z",
          "iopub.execute_input": "2023-10-21T04:07:07.632144Z",
          "iopub.status.idle": "2023-10-21T04:07:08.890552Z",
          "shell.execute_reply.started": "2023-10-21T04:07:07.632114Z",
          "shell.execute_reply": "2023-10-21T04:07:08.889181Z"
        },
        "trusted": true,
        "id": "uD6OHFeWsFw6"
      },
      "execution_count": null,
      "outputs": []
    },
    {
      "cell_type": "code",
      "source": [
        "columns_to_plot = ['instrumentalness', 'liveness', 'speechiness']\n",
        "\n",
        "fig, axes = plt.subplots(3, 3, figsize=(16, 12))\n",
        "axes = axes.flatten()\n",
        "\n",
        "colormap = plt.cm.get_cmap('viridis')\n",
        "\n",
        "for i, column in enumerate(columns_to_plot):\n",
        "    plt.sca(axes[i])\n",
        "\n",
        "    scatter = plt.scatter(df_da['acousticness'], df_da[column], c=df_da['acousticness'], cmap=colormap, alpha=0.5)\n",
        "\n",
        "    plt.xlabel('Acousticness', fontsize=12)\n",
        "    plt.ylabel(column, fontsize=12)\n",
        "    plt.title(f'{column} vs. Acousticness', fontsize=14)\n",
        "    plt.grid(True)\n",
        "    plt.colorbar(scatter, label='Acousticness')\n",
        "\n",
        "for j in range(len(columns_to_plot), len(axes)):\n",
        "    fig.delaxes(axes[j])\n",
        "\n",
        "plt.tight_layout()\n",
        "plt.show()\n"
      ],
      "metadata": {
        "_kg_hide-input": true,
        "execution": {
          "iopub.status.busy": "2023-10-21T04:07:08.891998Z",
          "iopub.execute_input": "2023-10-21T04:07:08.892315Z",
          "iopub.status.idle": "2023-10-21T04:07:09.851326Z",
          "shell.execute_reply.started": "2023-10-21T04:07:08.892287Z",
          "shell.execute_reply": "2023-10-21T04:07:09.849838Z"
        },
        "trusted": true,
        "id": "agANImqXsFw6"
      },
      "execution_count": null,
      "outputs": []
    },
    {
      "cell_type": "code",
      "source": [
        "columns_to_plot = ['liveness', 'speechiness']\n",
        "\n",
        "fig, axes = plt.subplots(3, 3, figsize=(12, 10))\n",
        "axes = axes.flatten()\n",
        "\n",
        "colormap = plt.cm.get_cmap('viridis')\n",
        "\n",
        "for i, column in enumerate(columns_to_plot):\n",
        "    plt.sca(axes[i])\n",
        "\n",
        "    scatter = plt.scatter(df_da['instrumentalness'], df_da[column], c=df_da['instrumentalness'], cmap=colormap, alpha=0.5)\n",
        "\n",
        "    plt.xlabel('Instrumentalness', fontsize=12)\n",
        "    plt.ylabel(column, fontsize=12)\n",
        "    plt.title(f'{column} vs. Instrumentalness', fontsize=14)\n",
        "    plt.grid(True)\n",
        "    plt.colorbar(scatter, label='Instrumentalness')\n",
        "\n",
        "for j in range(len(columns_to_plot), len(axes)):\n",
        "    fig.delaxes(axes[j])\n",
        "\n",
        "plt.tight_layout()\n",
        "plt.show()\n"
      ],
      "metadata": {
        "_kg_hide-input": true,
        "execution": {
          "iopub.status.busy": "2023-10-21T04:07:09.85278Z",
          "iopub.execute_input": "2023-10-21T04:07:09.853128Z",
          "iopub.status.idle": "2023-10-21T04:07:10.748094Z",
          "shell.execute_reply.started": "2023-10-21T04:07:09.853098Z",
          "shell.execute_reply": "2023-10-21T04:07:10.746448Z"
        },
        "trusted": true,
        "id": "JGKBPmZgsFw7"
      },
      "execution_count": null,
      "outputs": []
    },
    {
      "cell_type": "code",
      "source": [
        "columns_to_plot = ['speechiness']\n",
        "\n",
        "fig, axes = plt.subplots(3, 3, figsize=(12, 10))\n",
        "axes = axes.flatten()\n",
        "\n",
        "colormap = plt.cm.get_cmap('viridis')\n",
        "\n",
        "for i, column in enumerate(columns_to_plot):\n",
        "    plt.sca(axes[i])\n",
        "    scatter = plt.scatter(df_da['liveness'], df_da[column], c=df_da['liveness'], cmap=colormap, alpha=0.5)\n",
        "\n",
        "    plt.xlabel('Liveness', fontsize=12)\n",
        "    plt.ylabel(column, fontsize=12)\n",
        "    plt.title(f'{column} vs. Liveness', fontsize=14)\n",
        "    plt.grid(True)\n",
        "    plt.colorbar(scatter, label='Liveness')\n",
        "\n",
        "for j in range(len(columns_to_plot), len(axes)):\n",
        "    fig.delaxes(axes[j])\n",
        "\n",
        "plt.tight_layout()\n",
        "plt.show()\n"
      ],
      "metadata": {
        "_kg_hide-input": true,
        "execution": {
          "iopub.status.busy": "2023-10-21T04:07:10.74956Z",
          "iopub.execute_input": "2023-10-21T04:07:10.749979Z",
          "iopub.status.idle": "2023-10-21T04:07:11.192407Z",
          "shell.execute_reply.started": "2023-10-21T04:07:10.749943Z",
          "shell.execute_reply": "2023-10-21T04:07:11.191331Z"
        },
        "trusted": true,
        "id": "58-UMo47sFw8"
      },
      "execution_count": null,
      "outputs": []
    },
    {
      "cell_type": "code",
      "source": [
        "bpm = df_da['bpm']\n",
        "danceability = df_da['danceability']\n",
        "streams = df_da['streams']\n",
        "\n",
        "fig = plt.figure(figsize=(10, 8))\n",
        "ax = fig.add_subplot(111, projection='3d')\n",
        "\n",
        "ax.scatter(bpm, danceability, streams, c=streams, cmap='viridis', marker='o')\n",
        "ax.set_xlabel('BPM')\n",
        "ax.set_ylabel('Danceability')\n",
        "ax.set_zlabel('Streams')\n",
        "\n",
        "cbar = fig.colorbar(ax.scatter(bpm, danceability, streams, c=streams, cmap='viridis', marker='o'), ax=ax)\n",
        "cbar.set_label('Streams', rotation=90)\n",
        "plt.title('3D Scatter Plot: BPM vs. Danceability vs. Streams')\n",
        "plt.show()"
      ],
      "metadata": {
        "_kg_hide-input": true,
        "execution": {
          "iopub.status.busy": "2023-10-21T04:07:11.193689Z",
          "iopub.execute_input": "2023-10-21T04:07:11.194763Z",
          "iopub.status.idle": "2023-10-21T04:07:11.528533Z",
          "shell.execute_reply.started": "2023-10-21T04:07:11.194722Z",
          "shell.execute_reply": "2023-10-21T04:07:11.527367Z"
        },
        "trusted": true,
        "id": "kTcjq8pAsFw8"
      },
      "execution_count": null,
      "outputs": []
    },
    {
      "cell_type": "code",
      "source": [
        "df_da.columns"
      ],
      "metadata": {
        "execution": {
          "iopub.status.busy": "2023-10-21T04:07:11.529843Z",
          "iopub.execute_input": "2023-10-21T04:07:11.530999Z",
          "iopub.status.idle": "2023-10-21T04:07:11.539007Z",
          "shell.execute_reply.started": "2023-10-21T04:07:11.530951Z",
          "shell.execute_reply": "2023-10-21T04:07:11.53799Z"
        },
        "trusted": true,
        "id": "ZWFnEOl8sFw8"
      },
      "execution_count": null,
      "outputs": []
    },
    {
      "cell_type": "code",
      "source": [
        "top_10_songs = df_da.nlargest(10, 'streams')\n",
        "top_10_songs.describe()"
      ],
      "metadata": {
        "_kg_hide-input": true,
        "execution": {
          "iopub.status.busy": "2023-10-21T04:07:11.540477Z",
          "iopub.execute_input": "2023-10-21T04:07:11.540993Z",
          "iopub.status.idle": "2023-10-21T04:07:11.615222Z",
          "shell.execute_reply.started": "2023-10-21T04:07:11.540968Z",
          "shell.execute_reply": "2023-10-21T04:07:11.613809Z"
        },
        "trusted": true,
        "id": "NUqF1E4_sFw9"
      },
      "execution_count": null,
      "outputs": []
    },
    {
      "cell_type": "code",
      "source": [
        "top_50_songs = df_da.nlargest(50, 'streams')\n",
        "top_50_songs.describe()"
      ],
      "metadata": {
        "_kg_hide-input": true,
        "execution": {
          "iopub.status.busy": "2023-10-21T04:07:11.616687Z",
          "iopub.execute_input": "2023-10-21T04:07:11.617113Z",
          "iopub.status.idle": "2023-10-21T04:07:11.683059Z",
          "shell.execute_reply.started": "2023-10-21T04:07:11.61708Z",
          "shell.execute_reply": "2023-10-21T04:07:11.680428Z"
        },
        "trusted": true,
        "id": "JPL0bAdvsFw9"
      },
      "execution_count": null,
      "outputs": []
    },
    {
      "cell_type": "code",
      "source": [
        "top_100_songs = df_da.nlargest(100, 'streams')\n",
        "top_100_songs.describe()\n"
      ],
      "metadata": {
        "_kg_hide-input": true,
        "execution": {
          "iopub.status.busy": "2023-10-21T04:07:11.684983Z",
          "iopub.execute_input": "2023-10-21T04:07:11.68542Z",
          "iopub.status.idle": "2023-10-21T04:07:11.755212Z",
          "shell.execute_reply.started": "2023-10-21T04:07:11.685385Z",
          "shell.execute_reply": "2023-10-21T04:07:11.75353Z"
        },
        "trusted": true,
        "id": "q_oOFCpKsFw9"
      },
      "execution_count": null,
      "outputs": []
    },
    {
      "cell_type": "code",
      "source": [
        "df_da.shape"
      ],
      "metadata": {
        "execution": {
          "iopub.status.busy": "2023-10-21T04:07:11.756499Z",
          "iopub.execute_input": "2023-10-21T04:07:11.756887Z",
          "iopub.status.idle": "2023-10-21T04:07:11.768523Z",
          "shell.execute_reply.started": "2023-10-21T04:07:11.756786Z",
          "shell.execute_reply": "2023-10-21T04:07:11.766798Z"
        },
        "trusted": true,
        "id": "23K9DpkjsFw9"
      },
      "execution_count": null,
      "outputs": []
    },
    {
      "cell_type": "code",
      "source": [
        "top_200_songs = df_da.nlargest(200, 'streams')\n",
        "top_500_songs = df_da.nlargest(500, 'streams')\n",
        "top_700_songs = df_da.nlargest(700, 'streams')\n",
        "top_817_songs = df_da.nlargest(817, 'streams')\n",
        "\n",
        "last_10_songs = df_da.nsmallest(10, 'streams')\n",
        "last_50_songs = df_da.nsmallest(50, 'streams')\n",
        "last_100_songs = df_da.nsmallest(100, 'streams')\n",
        "last_200_songs = df_da.nsmallest(200, 'streams')\n",
        "last_500_songs = df_da.nsmallest(500, 'streams')\n"
      ],
      "metadata": {
        "execution": {
          "iopub.status.busy": "2023-10-21T04:07:11.769887Z",
          "iopub.execute_input": "2023-10-21T04:07:11.770238Z",
          "iopub.status.idle": "2023-10-21T04:07:11.799093Z",
          "shell.execute_reply.started": "2023-10-21T04:07:11.77021Z",
          "shell.execute_reply": "2023-10-21T04:07:11.797582Z"
        },
        "trusted": true,
        "id": "tjqJ0gCVsFw-"
      },
      "execution_count": null,
      "outputs": []
    },
    {
      "cell_type": "markdown",
      "source": [
        "## Analysis --> Keys"
      ],
      "metadata": {
        "id": "LmQCDavisFw-"
      }
    },
    {
      "cell_type": "code",
      "source": [
        "key_colors = {\n",
        "    'key_a': 'red',\n",
        "    'key_a#': 'blue',\n",
        "    'key_b': 'green',\n",
        "    'key_c#': 'purple',\n",
        "    'key_d': 'orange',\n",
        "    'key_d#': 'cyan',\n",
        "    'key_e': 'magenta',\n",
        "    'key_f': 'yellow',\n",
        "    'key_f#': 'lime',\n",
        "    'key_g': 'pink',\n",
        "    'key_g#': 'brown'\n",
        "}\n",
        "\n",
        "key_columns = ['key_a', 'key_a#', 'key_b', 'key_c#', 'key_d', 'key_d#', 'key_e', 'key_f', 'key_f#', 'key_g', 'key_g#']"
      ],
      "metadata": {
        "execution": {
          "iopub.status.busy": "2023-10-21T04:07:11.800969Z",
          "iopub.execute_input": "2023-10-21T04:07:11.801288Z",
          "iopub.status.idle": "2023-10-21T04:07:11.808481Z",
          "shell.execute_reply.started": "2023-10-21T04:07:11.801264Z",
          "shell.execute_reply": "2023-10-21T04:07:11.80674Z"
        },
        "trusted": true,
        "id": "tUjemyxasFw-"
      },
      "execution_count": null,
      "outputs": []
    },
    {
      "cell_type": "code",
      "source": [
        "df_da.shape"
      ],
      "metadata": {
        "execution": {
          "iopub.status.busy": "2023-10-21T04:07:11.810158Z",
          "iopub.execute_input": "2023-10-21T04:07:11.810687Z",
          "iopub.status.idle": "2023-10-21T04:07:11.824225Z",
          "shell.execute_reply.started": "2023-10-21T04:07:11.810656Z",
          "shell.execute_reply": "2023-10-21T04:07:11.823269Z"
        },
        "trusted": true,
        "id": "8EsGH1NjsFw_"
      },
      "execution_count": null,
      "outputs": []
    },
    {
      "cell_type": "code",
      "source": [
        "#df_da2=df_da.copy()"
      ],
      "metadata": {
        "_kg_hide-input": true,
        "execution": {
          "iopub.status.busy": "2023-10-21T04:07:11.825122Z",
          "iopub.execute_input": "2023-10-21T04:07:11.825393Z",
          "iopub.status.idle": "2023-10-21T04:07:11.837743Z",
          "shell.execute_reply.started": "2023-10-21T04:07:11.825368Z",
          "shell.execute_reply": "2023-10-21T04:07:11.836784Z"
        },
        "trusted": true,
        "id": "H_xnF2MmsFxA"
      },
      "execution_count": null,
      "outputs": []
    },
    {
      "cell_type": "code",
      "source": [
        "#df_da = df_da2.copy()"
      ],
      "metadata": {
        "_kg_hide-input": true,
        "execution": {
          "iopub.status.busy": "2023-10-21T04:07:11.840084Z",
          "iopub.execute_input": "2023-10-21T04:07:11.840503Z",
          "iopub.status.idle": "2023-10-21T04:07:11.854176Z",
          "shell.execute_reply.started": "2023-10-21T04:07:11.840468Z",
          "shell.execute_reply": "2023-10-21T04:07:11.853174Z"
        },
        "trusted": true,
        "id": "zwj4Ald9sFxA"
      },
      "execution_count": null,
      "outputs": []
    },
    {
      "cell_type": "code",
      "source": [
        "key_df = df_da[key_columns]\n",
        "\n",
        "key_counts = key_df.eq(1).sum()\n",
        "\n",
        "plt.figure(figsize=(5, 5))\n",
        "plt.pie(key_counts, labels=None, autopct='%1.1f%%', startangle=140, colors=[key_colors[key] for key in key_counts.index])\n",
        "plt.title('Overall Keys Distribution')\n",
        "plt.axis('equal')\n",
        "\n",
        "legend_labels = [key + f\" ({key_counts[key]})\" for key in key_counts.index]\n",
        "legend_patches = [plt.Line2D([0], [0], marker='o', color='w', label=label, markersize=10, markerfacecolor=key_colors[key]) for label, key in zip(legend_labels, key_counts.index)]\n",
        "plt.legend(handles=legend_patches, loc='center left', bbox_to_anchor=(1, 0.5), title='Total Keys')\n",
        "\n",
        "plt.show()\n",
        "\n",
        "\n"
      ],
      "metadata": {
        "_kg_hide-input": true,
        "execution": {
          "iopub.status.busy": "2023-10-21T04:07:11.855326Z",
          "iopub.execute_input": "2023-10-21T04:07:11.855654Z",
          "iopub.status.idle": "2023-10-21T04:07:12.098538Z",
          "shell.execute_reply.started": "2023-10-21T04:07:11.855626Z",
          "shell.execute_reply": "2023-10-21T04:07:12.097797Z"
        },
        "trusted": true,
        "id": "7B5mZLSfsFxC"
      },
      "execution_count": null,
      "outputs": []
    },
    {
      "cell_type": "code",
      "source": [
        "dataframes = [top_10_songs, top_50_songs, top_100_songs]\n",
        "\n",
        "chart_titles = ['Top 10 Songs Keys Distribution', 'Top 50 Songs Keys Distribution', 'Top 100 Songs Keys Distribution']\n",
        "\n",
        "fig, axes = plt.subplots(1, len(dataframes), figsize=(15, 5))\n",
        "\n",
        "for i, (df_da_copy, title) in enumerate(zip(dataframes, chart_titles)):\n",
        "    key_df = df_da_copy[key_columns]\n",
        "\n",
        "    key_counts = key_df.eq(1).sum()\n",
        "\n",
        "    key_counts_filtered = key_counts[key_counts > 0]\n",
        "\n",
        "    ax = axes[i]\n",
        "    ax.pie(key_counts_filtered, labels=None, autopct='%1.1f%%', startangle=140, colors=[key_colors[key] for key in key_counts_filtered.index])\n",
        "    ax.set_title(title)\n",
        "    ax.axis('equal')\n",
        "\n",
        "legend_labels = [key + f\" ({key_counts_filtered[key]})\" for key in key_counts_filtered.index]\n",
        "legend_patches = [plt.Line2D([0], [0], marker='o', color='w', label=label, markersize=10, markerfacecolor=key_colors[key]) for label, key in zip(legend_labels, key_counts_filtered.index)]\n",
        "fig.legend(handles=legend_patches, loc='upper right', title='Top 100 Keys', bbox_to_anchor=(1.15, 1))\n",
        "\n",
        "plt.tight_layout()\n",
        "plt.show()\n"
      ],
      "metadata": {
        "_kg_hide-input": true,
        "execution": {
          "iopub.status.busy": "2023-10-21T04:07:12.099514Z",
          "iopub.execute_input": "2023-10-21T04:07:12.099982Z",
          "iopub.status.idle": "2023-10-21T04:07:12.62755Z",
          "shell.execute_reply.started": "2023-10-21T04:07:12.099954Z",
          "shell.execute_reply": "2023-10-21T04:07:12.626676Z"
        },
        "trusted": true,
        "id": "7zSjwKGmsFxD"
      },
      "execution_count": null,
      "outputs": []
    },
    {
      "cell_type": "code",
      "source": [
        "dataframes = [top_10_songs, top_50_songs, top_100_songs, top_200_songs, top_500_songs, top_700_songs, top_817_songs]\n",
        "labels = ['Top 10', 'Top 50', 'Top 100', 'Top 200', 'Top 500', 'Top 700', 'Top 817']\n",
        "key_of_interest = 'key_c#'"
      ],
      "metadata": {
        "execution": {
          "iopub.status.busy": "2023-10-21T04:07:12.628856Z",
          "iopub.execute_input": "2023-10-21T04:07:12.629424Z",
          "iopub.status.idle": "2023-10-21T04:07:12.635621Z",
          "shell.execute_reply.started": "2023-10-21T04:07:12.629391Z",
          "shell.execute_reply": "2023-10-21T04:07:12.63399Z"
        },
        "trusted": true,
        "id": "KntYq1y4sFxD"
      },
      "execution_count": null,
      "outputs": []
    },
    {
      "cell_type": "code",
      "source": [
        "df_da.shape"
      ],
      "metadata": {
        "execution": {
          "iopub.status.busy": "2023-10-21T04:07:12.637784Z",
          "iopub.execute_input": "2023-10-21T04:07:12.638301Z",
          "iopub.status.idle": "2023-10-21T04:07:12.660812Z",
          "shell.execute_reply.started": "2023-10-21T04:07:12.63826Z",
          "shell.execute_reply": "2023-10-21T04:07:12.659764Z"
        },
        "trusted": true,
        "id": "iauGwar6sFxE"
      },
      "execution_count": null,
      "outputs": []
    },
    {
      "cell_type": "code",
      "source": [
        "key_counts = []\n",
        "key_percentages = []\n",
        "\n",
        "for df in dataframes:\n",
        "    key_count = df[key_of_interest].eq(1).sum()\n",
        "    key_counts.append(key_count)\n",
        "    key_percentage = (key_count / len(df)) * 100\n",
        "    key_percentages.append(key_percentage)\n",
        "\n",
        "plt.figure(figsize=(12, 6))\n",
        "\n",
        "plt.subplot(121)\n",
        "plt.bar(labels, key_counts, color='skyblue')\n",
        "plt.xlabel('Subset of Songs')\n",
        "plt.ylabel(f'Count of {key_of_interest}')\n",
        "plt.title(f'Distribution of {key_of_interest} in Different Subsets of Songs')\n",
        "\n",
        "for i, count in enumerate(key_counts):\n",
        "    plt.text(i, count, str(count), ha='center', va='bottom', fontsize=12)\n",
        "\n",
        "plt.subplot(122)\n",
        "plt.bar(labels, key_percentages, color='lightcoral')\n",
        "plt.xlabel('Subset of Songs')\n",
        "plt.ylabel(f'% of {key_of_interest}')\n",
        "plt.title(f'Percentage of {key_of_interest} in Different Subsets of Songs')\n",
        "\n",
        "for i, percentage in enumerate(key_percentages):\n",
        "    plt.text(i, percentage, f'{percentage:.2f}%', ha='center', va='bottom', fontsize=12)\n",
        "\n",
        "plt.tight_layout()\n",
        "plt.show()\n"
      ],
      "metadata": {
        "_kg_hide-input": true,
        "execution": {
          "iopub.status.busy": "2023-10-21T04:07:12.662441Z",
          "iopub.execute_input": "2023-10-21T04:07:12.662741Z",
          "iopub.status.idle": "2023-10-21T04:07:13.329755Z",
          "shell.execute_reply.started": "2023-10-21T04:07:12.662714Z",
          "shell.execute_reply": "2023-10-21T04:07:13.32829Z"
        },
        "trusted": true,
        "id": "6dVm8fVOsFxE"
      },
      "execution_count": null,
      "outputs": []
    },
    {
      "cell_type": "code",
      "source": [
        "key_counts = []\n",
        "key_percentages = []\n",
        "\n",
        "for df in dataframes:\n",
        "    key_count = df[key_of_interest].eq(1).sum()\n",
        "    key_counts.append(key_count)\n",
        "    key_percentage = (key_count / len(df)) * 100\n",
        "    key_percentages.append(key_percentage)\n",
        "\n",
        "fig, ax1 = plt.subplots(figsize=(12, 6))\n",
        "\n",
        "ax1.bar(labels, key_counts, color='skyblue', alpha=0.7, label=f'Count of {key_of_interest}')\n",
        "ax1.set_xlabel('Subset of Songs')\n",
        "ax1.set_ylabel(f'Count of {key_of_interest}')\n",
        "ax1.set_title(f'Distribution and Percentage of {key_of_interest} in Different Subsets of Songs')\n",
        "ax1.set_ylim(0, max(key_counts) + 2)\n",
        "#----\n",
        "ax2 = ax1.twinx()\n",
        "ax2.plot(labels, key_percentages, marker='o', color='lightcoral', linestyle='-', markersize=8, label=f'% of {key_of_interest}')\n",
        "ax2.set_ylabel(f'% of {key_of_interest}')\n",
        "ax2.set_ylim(0, max(key_percentages) + 10)\n",
        "\n",
        "for i, percentage in enumerate(key_percentages):\n",
        "    ax2.text(i, percentage, f'{percentage:.2f}%', ha='center', va='bottom', fontsize=10)\n",
        "#---\n",
        "for i, count in enumerate(key_counts):\n",
        "    ax1.text(i, count, str(count), ha='center', va='bottom', fontsize=10)\n",
        "\n",
        "ax1.legend(loc='upper left', framealpha=0.7)\n",
        "#---\n",
        "ax2.legend(loc='upper right', framealpha=0.7)\n",
        "\n",
        "plt.tight_layout()\n",
        "plt.show()"
      ],
      "metadata": {
        "_kg_hide-input": true,
        "execution": {
          "iopub.status.busy": "2023-10-21T04:07:13.331012Z",
          "iopub.execute_input": "2023-10-21T04:07:13.332242Z",
          "iopub.status.idle": "2023-10-21T04:07:13.77002Z",
          "shell.execute_reply.started": "2023-10-21T04:07:13.332209Z",
          "shell.execute_reply": "2023-10-21T04:07:13.76886Z"
        },
        "trusted": true,
        "id": "TG_79MmEsFxF"
      },
      "execution_count": null,
      "outputs": []
    },
    {
      "cell_type": "markdown",
      "source": [
        "### While one might be tempted to get ride of #Keys, it appears that this is a big variable of interest.\n",
        "C# appearances:\n",
        "* Top 10: 30%\n",
        "* Top 50: 24%\n",
        "* Top 100: 18%\n",
        "\n",
        "Starting from the last rows:\n",
        "C# appearances:\n",
        "* Last 10: 10%\n",
        "* Last 50: 14%\n",
        "* Last 100: 14%\n",
        "\n",
        "### Massive contrast between Top 10 and Last 10, 300% factor\n"
      ],
      "metadata": {
        "id": "WWTF-dx_sFxF"
      }
    },
    {
      "cell_type": "code",
      "source": [
        "df_da.head()"
      ],
      "metadata": {
        "execution": {
          "iopub.status.busy": "2023-10-21T04:07:13.771119Z",
          "iopub.execute_input": "2023-10-21T04:07:13.771917Z",
          "iopub.status.idle": "2023-10-21T04:07:13.804128Z",
          "shell.execute_reply.started": "2023-10-21T04:07:13.771874Z",
          "shell.execute_reply": "2023-10-21T04:07:13.801869Z"
        },
        "trusted": true,
        "id": "UY9KRXrhsFxG"
      },
      "execution_count": null,
      "outputs": []
    },
    {
      "cell_type": "markdown",
      "source": [
        "## Analysis --> Mode: Major & Minor"
      ],
      "metadata": {
        "id": "JsJ55um_sFxG"
      }
    },
    {
      "cell_type": "code",
      "source": [
        "dataframes = [top_10_songs, top_50_songs, top_100_songs, top_200_songs, top_500_songs, top_700_songs, top_817_songs]\n",
        "labels = ['Top 10', 'Top 50', 'Top 100', 'Top 200', 'Top 500', 'Top 700', 'Top 817']\n",
        "\n",
        "columns_of_interest = ['mode_major', 'mode_minor']\n",
        "\n",
        "counts_1 = {col: [] for col in columns_of_interest}\n",
        "counts_0 = {col: [] for col in columns_of_interest}\n",
        "\n",
        "for df in dataframes:\n",
        "    for col in columns_of_interest:\n",
        "        count_1 = df[col].eq(1.0).sum()\n",
        "        count_0 = len(df) - count_1\n",
        "        counts_1[col].append(count_1)\n",
        "        counts_0[col].append(count_0)\n",
        "\n",
        "for col in columns_of_interest:\n",
        "    plt.figure(figsize=(12, 6))\n",
        "\n",
        "    plt.bar(labels, counts_1[col], color='skyblue', alpha=0.7, label=f'Count of {col} (1.0)')\n",
        "    plt.xlabel('Subset of Songs')\n",
        "    plt.ylabel(f'Count of {col}')\n",
        "    plt.title(f'Distribution of {col} in Different Subsets of Songs')\n",
        "    plt.ylim(0, max(counts_1[col]) + 2)\n",
        "\n",
        "    for i, count in enumerate(counts_1[col]):\n",
        "        plt.text(i, count, str(count), ha='center', va='bottom', fontsize=10)\n",
        "\n",
        "    plt.twinx()\n",
        "    plt.plot(labels, [(count / len(df)) * 100 for count, df in zip(counts_1[col], dataframes)], marker='o', color='lightcoral', linestyle='-', markersize=8, label=f'% of {col}')\n",
        "    plt.ylabel(f'% of {col}')\n",
        "    plt.ylim(0, 110)\n",
        "\n",
        "    for i, count in enumerate(counts_1[col]):\n",
        "        plt.text(i, (count / len(dataframes[i])) * 100, f'{(count / len(dataframes[i])) * 100:.2f}%', ha='center', va='bottom', fontsize=10)\n",
        "\n",
        "    plt.legend(loc='upper left', framealpha=0.7)\n",
        "    plt.tight_layout()\n",
        "\n",
        "plt.show()\n"
      ],
      "metadata": {
        "_kg_hide-input": true,
        "execution": {
          "iopub.status.busy": "2023-10-21T04:07:13.806265Z",
          "iopub.execute_input": "2023-10-21T04:07:13.806717Z",
          "iopub.status.idle": "2023-10-21T04:07:14.627965Z",
          "shell.execute_reply.started": "2023-10-21T04:07:13.806687Z",
          "shell.execute_reply": "2023-10-21T04:07:14.626775Z"
        },
        "trusted": true,
        "id": "fbTMuO56sFxH"
      },
      "execution_count": null,
      "outputs": []
    },
    {
      "cell_type": "code",
      "source": [
        "dataframes = [top_10_songs, top_50_songs, top_100_songs, top_200_songs, top_500_songs, top_700_songs, top_817_songs]\n",
        "labels = ['Top 10', 'Top 50', 'Top 100', 'Top 200', 'Top 500', 'Top 700', 'Top 817']\n",
        "\n",
        "columns_of_interest = ['mode_major', 'mode_minor']\n",
        "\n",
        "percentages_major = []\n",
        "percentages_minor = []\n",
        "\n",
        "for df_da in dataframes:\n",
        "    total_count = len(df_da)\n",
        "    count_major = df_da['mode_major'].sum()\n",
        "    count_minor = df_da['mode_minor'].sum()\n",
        "    percentage_major = (count_major / total_count) * 100\n",
        "    percentage_minor = (count_minor / total_count) * 100\n",
        "    percentages_major.append(percentage_major)\n",
        "    percentages_minor.append(percentage_minor)\n",
        "\n",
        "plt.figure(figsize=(12, 6))\n",
        "plt.plot(labels, percentages_major, marker='o', linestyle='-', color='skyblue', label='mode_major (True)')\n",
        "plt.plot(labels, percentages_minor, marker='o', linestyle='-', color='lightcoral', label='mode_minor (True)')\n",
        "plt.xlabel('Subset of Songs')\n",
        "plt.ylabel('%')\n",
        "plt.title('Distribution of \"mode_major\" and \"mode_minor\" in Different Subsets of Songs')\n",
        "plt.legend()\n",
        "plt.grid(True)\n",
        "\n",
        "for i, (p_major, p_minor) in enumerate(zip(percentages_major, percentages_minor)):\n",
        "    plt.text(i, p_major, f'{p_major:.2f}%', ha='center', va='bottom', fontsize=10)\n",
        "    plt.text(i, p_minor, f'{p_minor:.2f}%', ha='center', va='top', fontsize=10)\n",
        "\n",
        "plt.tight_layout()\n",
        "plt.show()\n"
      ],
      "metadata": {
        "_kg_hide-input": true,
        "execution": {
          "iopub.status.busy": "2023-10-21T04:07:14.629602Z",
          "iopub.execute_input": "2023-10-21T04:07:14.630019Z",
          "iopub.status.idle": "2023-10-21T04:07:14.974304Z",
          "shell.execute_reply.started": "2023-10-21T04:07:14.629981Z",
          "shell.execute_reply": "2023-10-21T04:07:14.973151Z"
        },
        "trusted": true,
        "id": "qhHQWlQAsFxH"
      },
      "execution_count": null,
      "outputs": []
    },
    {
      "cell_type": "code",
      "source": [
        "last_dataframes = [last_10_songs, last_50_songs, last_100_songs, last_200_songs, last_500_songs]\n",
        "last_labels = ['Last 10', 'Last 50', 'Last 100', 'Last 200', 'Last 500']\n",
        "\n",
        "fig, axes = plt.subplots(1, 2, figsize=(16, 6))\n",
        "\n",
        "last_counts_1 = {col: [] for col in columns_of_interest}\n",
        "last_counts_0 = {col: [] for col in columns_of_interest}\n",
        "\n",
        "for df in last_dataframes:\n",
        "    for col in columns_of_interest:\n",
        "        last_count_1 = df[col].eq(1.0).sum()\n",
        "        last_count_0 = len(df) - last_count_1\n",
        "        last_counts_1[col].append(last_count_1)\n",
        "        last_counts_0[col].append(last_count_0)\n",
        "\n",
        "for i, col in enumerate(columns_of_interest):\n",
        "    ax = axes[i]\n",
        "\n",
        "    ax.bar(last_labels, last_counts_1[col], color='skyblue', alpha=0.7, label=f'Count of {col} (1.0)')\n",
        "    ax.set_xlabel('Subset of Last Songs')\n",
        "    ax.set_ylabel(f'Count of {col} (1.0)')\n",
        "    ax.set_title(f'Distribution of {col} (1.0) in Different Subsets of Last Songs')\n",
        "    ax.set_ylim(0, max(last_counts_1[col]) + 2)\n",
        "\n",
        "    for j, count in enumerate(last_counts_1[col]):\n",
        "        ax.text(j, count, str(count), ha='center', va='bottom', fontsize=10)\n",
        "\n",
        "    ax2 = ax.twinx()\n",
        "    ax2.plot(last_labels, [(count / len(df)) * 100 for count, df in zip(last_counts_1[col], last_dataframes)], marker='o', color='lightcoral', linestyle='-', markersize=8, label=f'% of {col} (1.0)')\n",
        "    ax2.set_ylabel(f'% of {col} (1.0)')\n",
        "    ax2.set_ylim(0, 110)\n",
        "\n",
        "    for j, count in enumerate(last_counts_1[col]):\n",
        "        ax2.text(j, (count / len(last_dataframes[j])) * 100, f'{(count / len(last_dataframes[j])) * 100:.2f}%', ha='center', va='bottom', fontsize=10)\n",
        "\n",
        "    ax.legend(loc='upper left', framealpha=0.7)\n",
        "    ax2.legend(loc='upper right', framealpha=0.7)\n",
        "    plt.tight_layout()\n",
        "\n",
        "plt.show()\n"
      ],
      "metadata": {
        "_kg_hide-input": true,
        "execution": {
          "iopub.status.busy": "2023-10-21T04:07:14.975739Z",
          "iopub.execute_input": "2023-10-21T04:07:14.976309Z",
          "iopub.status.idle": "2023-10-21T04:07:15.746Z",
          "shell.execute_reply.started": "2023-10-21T04:07:14.976263Z",
          "shell.execute_reply": "2023-10-21T04:07:15.745176Z"
        },
        "trusted": true,
        "id": "FSKE8OGlsFxI"
      },
      "execution_count": null,
      "outputs": []
    },
    {
      "cell_type": "code",
      "source": [
        "df_da.columns"
      ],
      "metadata": {
        "execution": {
          "iopub.status.busy": "2023-10-21T04:07:15.747248Z",
          "iopub.execute_input": "2023-10-21T04:07:15.74791Z",
          "iopub.status.idle": "2023-10-21T04:07:15.755948Z",
          "shell.execute_reply.started": "2023-10-21T04:07:15.747876Z",
          "shell.execute_reply": "2023-10-21T04:07:15.75463Z"
        },
        "trusted": true,
        "id": "RK3_coZGsFxI"
      },
      "execution_count": null,
      "outputs": []
    },
    {
      "cell_type": "markdown",
      "source": [
        "### Analysis : BPM"
      ],
      "metadata": {
        "id": "ir-nVhzRsFxJ"
      }
    },
    {
      "cell_type": "code",
      "source": [
        "dataframes = [top_10_songs, top_50_songs, top_100_songs, top_200_songs, top_500_songs, top_700_songs, top_817_songs]\n",
        "labels = ['Top 10', 'Top 50', 'Top 100', 'Top 200', 'Top 500', 'Top 700', 'Top 817']\n",
        "last_dataframes = [last_10_songs, last_50_songs, last_100_songs, last_200_songs, last_500_songs]\n",
        "last_labels = ['Last 10', 'Last 50', 'Last 100', 'Last 200', 'Last 500']"
      ],
      "metadata": {
        "execution": {
          "iopub.status.busy": "2023-10-21T04:07:15.757174Z",
          "iopub.execute_input": "2023-10-21T04:07:15.758108Z",
          "iopub.status.idle": "2023-10-21T04:07:15.773711Z",
          "shell.execute_reply.started": "2023-10-21T04:07:15.758075Z",
          "shell.execute_reply": "2023-10-21T04:07:15.772003Z"
        },
        "trusted": true,
        "id": "dfksnkpAsFxJ"
      },
      "execution_count": null,
      "outputs": []
    },
    {
      "cell_type": "code",
      "source": [
        "bpm_min = []\n",
        "bpm_max = []\n",
        "bpm_avg = []\n",
        "bpm_std = []\n",
        "\n",
        "for df in dataframes:\n",
        "    bpm_min.append(df['bpm'].min())\n",
        "    bpm_max.append(df['bpm'].max())\n",
        "    bpm_avg.append(df['bpm'].mean())\n",
        "    bpm_std.append(df['bpm'].std())\n",
        "\n",
        "plt.figure(figsize=(12, 6))\n",
        "\n",
        "# Line for average BPM\n",
        "plt.plot(labels, bpm_avg, marker='o', linestyle='-', color='skyblue', label='Average BPM')\n",
        "\n",
        "# Line for max BPM\n",
        "plt.plot(labels, bpm_max, marker='o', linestyle='-', color='lightcoral', label='Max BPM')\n",
        "\n",
        "# Line for min BPM\n",
        "plt.plot(labels, bpm_min, marker='o', linestyle='-', color='lightgreen', label='Min BPM')\n",
        "\n",
        "# Line for std BPM\n",
        "plt.plot(labels, bpm_std, marker='o', linestyle='-', color='gold', label='BPM Std Deviation')\n",
        "\n",
        "plt.xlabel('Subset of Songs')\n",
        "plt.ylabel('BPM')\n",
        "plt.title('Distribution of BPM per Subsets')\n",
        "plt.legend()\n",
        "plt.grid(True)\n",
        "\n",
        "for i, (avg, max_val, min_val, std_val) in enumerate(zip(bpm_avg, bpm_max, bpm_min, bpm_std)):\n",
        "    plt.text(i, avg, f'Avg: {avg:.2f}', ha='center', va='bottom', fontsize=10)\n",
        "    plt.text(i, max_val, f'Max: {max_val:.2f}', ha='center', va='top', fontsize=10)\n",
        "    plt.text(i, min_val, f'Min: {min_val:.2f}', ha='center', va='bottom', fontsize=10)\n",
        "    plt.text(i, std_val, f'Std: {std_val:.2f}', ha='center', va='bottom', fontsize=10)\n",
        "\n",
        "plt.tight_layout()\n",
        "plt.show()\n"
      ],
      "metadata": {
        "_kg_hide-input": true,
        "execution": {
          "iopub.status.busy": "2023-10-21T04:07:15.775327Z",
          "iopub.execute_input": "2023-10-21T04:07:15.775641Z",
          "iopub.status.idle": "2023-10-21T04:07:16.176693Z",
          "shell.execute_reply.started": "2023-10-21T04:07:15.775614Z",
          "shell.execute_reply": "2023-10-21T04:07:16.175364Z"
        },
        "trusted": true,
        "id": "AZVMxgjBsFxJ"
      },
      "execution_count": null,
      "outputs": []
    },
    {
      "cell_type": "code",
      "source": [
        "plt.figure(figsize=(12, 6))\n",
        "bpm_avg = []\n",
        "\n",
        "for i, df in enumerate(dataframes):\n",
        "    plt.scatter([i] * len(df), df['bpm'], label=labels[i], alpha=0.7)\n",
        "    avg = df['bpm'].mean()\n",
        "    bpm_avg.append(avg)\n",
        "\n",
        "plt.plot(range(len(dataframes)), bpm_avg, marker='o', linestyle='-', color='red', label='Average BPM')\n",
        "plt.xlabel('Subset of Songs')\n",
        "plt.ylabel('BPM')\n",
        "plt.title('TOP - Distribution of BPM for Each Subsets')\n",
        "plt.xticks(range(len(dataframes)), labels, rotation=45)\n",
        "plt.legend(loc='upper left', bbox_to_anchor=(1, 1))\n",
        "plt.grid(True)\n",
        "\n",
        "plt.tight_layout()\n",
        "plt.show()\n"
      ],
      "metadata": {
        "_kg_hide-input": true,
        "execution": {
          "iopub.status.busy": "2023-10-21T04:07:16.178363Z",
          "iopub.execute_input": "2023-10-21T04:07:16.178763Z",
          "iopub.status.idle": "2023-10-21T04:07:16.624912Z",
          "shell.execute_reply.started": "2023-10-21T04:07:16.178726Z",
          "shell.execute_reply": "2023-10-21T04:07:16.623357Z"
        },
        "trusted": true,
        "id": "BChruoR3sFxK"
      },
      "execution_count": null,
      "outputs": []
    },
    {
      "cell_type": "markdown",
      "source": [
        "### Analysis Danceability"
      ],
      "metadata": {
        "id": "pSTEmyRgsFxK"
      }
    },
    {
      "cell_type": "code",
      "source": [
        "df_da.shape"
      ],
      "metadata": {
        "execution": {
          "iopub.status.busy": "2023-10-21T04:07:16.626789Z",
          "iopub.execute_input": "2023-10-21T04:07:16.627633Z",
          "iopub.status.idle": "2023-10-21T04:07:16.635494Z",
          "shell.execute_reply.started": "2023-10-21T04:07:16.6276Z",
          "shell.execute_reply": "2023-10-21T04:07:16.633726Z"
        },
        "trusted": true,
        "id": "3hHKXNdtsFxK"
      },
      "execution_count": null,
      "outputs": []
    },
    {
      "cell_type": "code",
      "source": [
        "danceability_min = []\n",
        "danceability_max = []\n",
        "danceability_avg = []\n",
        "danceability_std = []\n",
        "\n",
        "for df in dataframes:\n",
        "    danceability_min.append(df['danceability'].min())\n",
        "    danceability_max.append(df['danceability'].max())\n",
        "    danceability_avg.append(df['danceability'].mean())\n",
        "    danceability_std.append(df['danceability'].std())\n",
        "\n",
        "plt.figure(figsize=(12, 6))\n",
        "\n",
        "# Line for average danceability\n",
        "plt.plot(labels, danceability_avg, marker='o', linestyle='-', color='skyblue', label='Average Danceability')\n",
        "\n",
        "# Line for max danceability\n",
        "plt.plot(labels, danceability_max, marker='o', linestyle='-', color='lightcoral', label='Max Danceability')\n",
        "\n",
        "# Line for min danceability\n",
        "plt.plot(labels, danceability_min, marker='o', linestyle='-', color='lightgreen', label='Min Danceability')\n",
        "\n",
        "# Line for std danceability\n",
        "plt.plot(labels, danceability_std, marker='o', linestyle='-', color='gold', label='Danceability Std Deviation')\n",
        "\n",
        "plt.xlabel('Subset of Songs')\n",
        "plt.ylabel('Danceability')\n",
        "plt.title('Distribution of Danceability per Subsets')\n",
        "plt.legend()\n",
        "plt.grid(True)\n",
        "\n",
        "for i, (avg, max_val, min_val, std_val) in enumerate(zip(danceability_avg, danceability_max, danceability_min, danceability_std)):\n",
        "    plt.text(i, avg, f'Avg: {avg:.2f}', ha='center', va='bottom', fontsize=10)\n",
        "    plt.text(i, max_val, f'Max: {max_val:.2f}', ha='center', va='top', fontsize=10)\n",
        "    plt.text(i, min_val, f'Min: {min_val:.2f}', ha='center', va='bottom', fontsize=10)\n",
        "    plt.text(i, std_val, f'Std: {std_val:.2f}', ha='center', va='bottom', fontsize=10)\n",
        "\n",
        "plt.tight_layout()\n",
        "plt.show()\n"
      ],
      "metadata": {
        "_kg_hide-input": true,
        "execution": {
          "iopub.status.busy": "2023-10-21T04:07:16.636755Z",
          "iopub.execute_input": "2023-10-21T04:07:16.637214Z",
          "iopub.status.idle": "2023-10-21T04:07:17.011356Z",
          "shell.execute_reply.started": "2023-10-21T04:07:16.637165Z",
          "shell.execute_reply": "2023-10-21T04:07:17.009654Z"
        },
        "trusted": true,
        "id": "h4KZ6utQsFxL"
      },
      "execution_count": null,
      "outputs": []
    },
    {
      "cell_type": "code",
      "source": [
        "plt.figure(figsize=(10, 6))\n",
        "sns.histplot(df_da['danceability'], bins=30, kde=True, color='skyblue')\n",
        "plt.xlabel('Danceability')\n",
        "plt.ylabel('Frequency')\n",
        "plt.title('Distribution of Danceability')\n",
        "plt.grid(True)\n",
        "plt.show()"
      ],
      "metadata": {
        "_kg_hide-input": true,
        "execution": {
          "iopub.status.busy": "2023-10-21T04:07:17.012863Z",
          "iopub.execute_input": "2023-10-21T04:07:17.013293Z",
          "iopub.status.idle": "2023-10-21T04:07:17.363548Z",
          "shell.execute_reply.started": "2023-10-21T04:07:17.013259Z",
          "shell.execute_reply": "2023-10-21T04:07:17.362498Z"
        },
        "trusted": true,
        "id": "7dEk-1RRsFxL"
      },
      "execution_count": null,
      "outputs": []
    },
    {
      "cell_type": "markdown",
      "source": [
        "### Analysis Valence"
      ],
      "metadata": {
        "id": "ZBJ4vZMTsFxM"
      }
    },
    {
      "cell_type": "code",
      "source": [
        "valence_min = []\n",
        "valence_max = []\n",
        "valence_avg = []\n",
        "valence_std = []\n",
        "\n",
        "for df in dataframes:\n",
        "    valence_min.append(df['valence'].min())\n",
        "    valence_max.append(df['valence'].max())\n",
        "    valence_avg.append(df['valence'].mean())\n",
        "    valence_std.append(df['valence'].std())\n",
        "\n",
        "plt.figure(figsize=(12, 6))\n",
        "\n",
        "# Line for average Valence\n",
        "plt.plot(labels, valence_avg, marker='o', linestyle='-', color='skyblue', label='Average Valence')\n",
        "\n",
        "# Line for max Valence\n",
        "plt.plot(labels, valence_max, marker='o', linestyle='-', color='lightcoral', label='Max Valence')\n",
        "\n",
        "# Line for min Valence\n",
        "plt.plot(labels, valence_min, marker='o', linestyle='-', color='lightgreen', label='Min Valence')\n",
        "\n",
        "# Line for std Valence\n",
        "plt.plot(labels, valence_std, marker='o', linestyle='-', color='gold', label='Valence Std Deviation')\n",
        "\n",
        "plt.xlabel('Subset of Songs')\n",
        "plt.ylabel('Valence')\n",
        "plt.title('Distribution of Valence per Subsets')\n",
        "plt.legend()\n",
        "plt.grid(True)\n",
        "\n",
        "for i, (avg, max_val, min_val, std_val) in enumerate(zip(valence_avg, valence_max, valence_min, valence_std)):\n",
        "    plt.text(i, avg, f'Avg: {avg:.2f}', ha='center', va='bottom', fontsize=10)\n",
        "    plt.text(i, max_val, f'Max: {max_val:.2f}', ha='center', va='top', fontsize=10)\n",
        "    plt.text(i, min_val, f'Min: {min_val:.2f}', ha='center', va='bottom', fontsize=10)\n",
        "    plt.text(i, std_val, f'Std: {std_val:.2f}', ha='center', va='bottom', fontsize=10)\n",
        "\n",
        "plt.tight_layout()\n",
        "plt.show()\n"
      ],
      "metadata": {
        "_kg_hide-input": true,
        "execution": {
          "iopub.status.busy": "2023-10-21T04:07:17.364615Z",
          "iopub.execute_input": "2023-10-21T04:07:17.364864Z",
          "iopub.status.idle": "2023-10-21T04:07:17.950467Z",
          "shell.execute_reply.started": "2023-10-21T04:07:17.364841Z",
          "shell.execute_reply": "2023-10-21T04:07:17.949341Z"
        },
        "trusted": true,
        "id": "iUqi0sblsFxM"
      },
      "execution_count": null,
      "outputs": []
    },
    {
      "cell_type": "code",
      "source": [
        "plt.figure(figsize=(10, 6))\n",
        "sns.histplot(df_da['valence'], bins=30, kde=True, color='lightcoral')\n",
        "plt.xlabel('Valence')\n",
        "plt.ylabel('Frequency')\n",
        "plt.title('Distribution of Valence')\n",
        "plt.grid(True)\n",
        "plt.show()"
      ],
      "metadata": {
        "_kg_hide-input": true,
        "execution": {
          "iopub.status.busy": "2023-10-21T04:07:17.959245Z",
          "iopub.execute_input": "2023-10-21T04:07:17.959898Z",
          "iopub.status.idle": "2023-10-21T04:07:18.294489Z",
          "shell.execute_reply.started": "2023-10-21T04:07:17.959844Z",
          "shell.execute_reply": "2023-10-21T04:07:18.293336Z"
        },
        "trusted": true,
        "id": "RfvA9AKjsFxM"
      },
      "execution_count": null,
      "outputs": []
    },
    {
      "cell_type": "code",
      "source": [],
      "metadata": {
        "id": "QreYRjMasFxN"
      },
      "execution_count": null,
      "outputs": []
    },
    {
      "cell_type": "markdown",
      "source": [
        "## Analysis Energy"
      ],
      "metadata": {
        "id": "R4B9EM_XsFxN"
      }
    },
    {
      "cell_type": "code",
      "source": [
        "energy_min = []\n",
        "energy_max = []\n",
        "energy_avg = []\n",
        "energy_std = []\n",
        "\n",
        "for df_da in dataframes:\n",
        "    energy_min.append(df_da['energy'].min())\n",
        "    energy_max.append(df_da['energy'].max())\n",
        "    energy_avg.append(df_da['energy'].mean())\n",
        "    energy_std.append(df_da['energy'].std())\n",
        "\n",
        "plt.figure(figsize=(12, 6))\n",
        "\n",
        "# Line for average Energy\n",
        "plt.plot(labels, energy_avg, marker='o', linestyle='-', color='skyblue', label='Average Energy')\n",
        "\n",
        "# Line for max Energy\n",
        "plt.plot(labels, energy_max, marker='o', linestyle='-', color='lightcoral', label='Max Energy')\n",
        "\n",
        "# Line for min Energy\n",
        "plt.plot(labels, energy_min, marker='o', linestyle='-', color='lightgreen', label='Min Energy')\n",
        "\n",
        "# Line for std Energy\n",
        "plt.plot(labels, energy_std, marker='o', linestyle='-', color='gold', label='Energy Std Deviation')\n",
        "\n",
        "plt.xlabel('Subset of Songs')\n",
        "plt.ylabel('Energy')\n",
        "plt.title('Distribution of Energy per Subsets')\n",
        "plt.legend()\n",
        "plt.grid(True)\n",
        "\n",
        "for i, (avg, max_val, min_val, std_val) in enumerate(zip(energy_avg, energy_max, energy_min, energy_std)):\n",
        "    plt.text(i, avg, f'Avg: {avg:.2f}', ha='center', va='bottom', fontsize=10)\n",
        "    plt.text(i, max_val, f'Max: {max_val:.2f}', ha='center', va='top', fontsize=10)\n",
        "    plt.text(i, min_val, f'Min: {min_val:.2f}', ha='center', va='bottom', fontsize=10)\n",
        "    plt.text(i, std_val, f'Std: {std_val:.2f}', ha='center', va='bottom', fontsize=10)\n",
        "\n",
        "plt.tight_layout()\n",
        "plt.show()\n"
      ],
      "metadata": {
        "_kg_hide-input": true,
        "execution": {
          "iopub.status.busy": "2023-10-21T04:07:18.295816Z",
          "iopub.execute_input": "2023-10-21T04:07:18.296488Z",
          "iopub.status.idle": "2023-10-21T04:07:18.65658Z",
          "shell.execute_reply.started": "2023-10-21T04:07:18.296378Z",
          "shell.execute_reply": "2023-10-21T04:07:18.655227Z"
        },
        "trusted": true,
        "id": "Uv5hIHtIsFxN"
      },
      "execution_count": null,
      "outputs": []
    },
    {
      "cell_type": "code",
      "source": [
        "plt.figure(figsize=(10, 6))\n",
        "sns.histplot(df_da['energy'], bins=30, kde=True, color='lightcoral')\n",
        "plt.xlabel('Energy')\n",
        "plt.ylabel('Frequency')\n",
        "plt.title('Distribution of Energy')\n",
        "plt.grid(True)\n",
        "plt.show()"
      ],
      "metadata": {
        "execution": {
          "iopub.status.busy": "2023-10-21T04:07:18.658654Z",
          "iopub.execute_input": "2023-10-21T04:07:18.659122Z",
          "iopub.status.idle": "2023-10-21T04:07:18.980101Z",
          "shell.execute_reply.started": "2023-10-21T04:07:18.659087Z",
          "shell.execute_reply": "2023-10-21T04:07:18.978758Z"
        },
        "trusted": true,
        "id": "3vsOUm2dsFxO"
      },
      "execution_count": null,
      "outputs": []
    },
    {
      "cell_type": "code",
      "source": [],
      "metadata": {
        "id": "t0QhxVpfsFxO"
      },
      "execution_count": null,
      "outputs": []
    },
    {
      "cell_type": "markdown",
      "source": [
        "## Analysis Acoustinecness"
      ],
      "metadata": {
        "id": "PLrKXa-QsFxO"
      }
    },
    {
      "cell_type": "code",
      "source": [
        "acousticness_min = []\n",
        "acousticness_max = []\n",
        "acousticness_avg = []\n",
        "acousticness_std = []\n",
        "\n",
        "for df in dataframes:\n",
        "    acousticness_min.append(df['acousticness'].min())\n",
        "    acousticness_max.append(df['acousticness'].max())\n",
        "    acousticness_avg.append(df['acousticness'].mean())\n",
        "    acousticness_std.append(df['acousticness'].std())\n",
        "\n",
        "plt.figure(figsize=(12, 6))\n",
        "\n",
        "# Line for average Acousticness\n",
        "plt.plot(labels, acousticness_avg, marker='o', linestyle='-', color='skyblue', label='Average Acousticness')\n",
        "\n",
        "# Line for max Acousticness\n",
        "plt.plot(labels, acousticness_max, marker='o', linestyle='-', color='lightcoral', label='Max Acousticness')\n",
        "\n",
        "# Line for min Acousticness\n",
        "plt.plot(labels, acousticness_min, marker='o', linestyle='-', color='lightgreen', label='Min Acousticness')\n",
        "\n",
        "# Line for std Acousticness\n",
        "plt.plot(labels, acousticness_std, marker='o', linestyle='-', color='gold', label='Acousticness Std Deviation')\n",
        "\n",
        "plt.xlabel('Subset of Songs')\n",
        "plt.ylabel('Acousticness')\n",
        "plt.title('Distribution of Acousticness per Subsets')\n",
        "plt.legend()\n",
        "plt.grid(True)\n",
        "\n",
        "for i, (avg, max_val, min_val, std_val) in enumerate(zip(acousticness_avg, acousticness_max, acousticness_min, acousticness_std)):\n",
        "    plt.text(i, avg, f'Avg: {avg:.2f}', ha='center', va='bottom', fontsize=10)\n",
        "    plt.text(i, max_val, f'Max: {max_val:.2f}', ha='center', va='top', fontsize=10)\n",
        "    plt.text(i, min_val, f'Min: {min_val:.2f}', ha='center', va='bottom', fontsize=10)\n",
        "    plt.text(i, std_val, f'Std: {std_val:.2f}', ha='center', va='bottom', fontsize=10)\n",
        "\n",
        "plt.tight_layout()\n",
        "plt.show()\n"
      ],
      "metadata": {
        "_kg_hide-input": true,
        "execution": {
          "iopub.status.busy": "2023-10-21T04:07:18.981238Z",
          "iopub.execute_input": "2023-10-21T04:07:18.981544Z",
          "iopub.status.idle": "2023-10-21T04:07:19.366118Z",
          "shell.execute_reply.started": "2023-10-21T04:07:18.981519Z",
          "shell.execute_reply": "2023-10-21T04:07:19.365105Z"
        },
        "trusted": true,
        "id": "OaWGcCT-sFxP"
      },
      "execution_count": null,
      "outputs": []
    },
    {
      "cell_type": "code",
      "source": [
        "plt.figure(figsize=(10, 6))\n",
        "sns.histplot(df_da['acousticness'], bins=30, kde=True, color='lightcoral')\n",
        "plt.xlabel('Acousticness')\n",
        "plt.ylabel('Frequency')\n",
        "plt.title('Distribution of Acousticness')\n",
        "plt.grid(True)\n",
        "plt.show()"
      ],
      "metadata": {
        "_kg_hide-input": true,
        "execution": {
          "iopub.status.busy": "2023-10-21T04:07:19.367766Z",
          "iopub.execute_input": "2023-10-21T04:07:19.368461Z",
          "iopub.status.idle": "2023-10-21T04:07:19.724793Z",
          "shell.execute_reply.started": "2023-10-21T04:07:19.368424Z",
          "shell.execute_reply": "2023-10-21T04:07:19.723075Z"
        },
        "trusted": true,
        "id": "QWg7yro_sFxP"
      },
      "execution_count": null,
      "outputs": []
    },
    {
      "cell_type": "markdown",
      "source": [
        "### Done\n",
        "### Next step is to download dataframe\n",
        "### And move on to modeling"
      ],
      "metadata": {
        "id": "Qtma_CP_sFxQ"
      }
    },
    {
      "cell_type": "code",
      "source": [
        "df_da.head()"
      ],
      "metadata": {
        "execution": {
          "iopub.status.busy": "2023-10-21T04:07:19.726946Z",
          "iopub.execute_input": "2023-10-21T04:07:19.727347Z",
          "iopub.status.idle": "2023-10-21T04:07:19.757905Z",
          "shell.execute_reply.started": "2023-10-21T04:07:19.727314Z",
          "shell.execute_reply": "2023-10-21T04:07:19.756711Z"
        },
        "trusted": true,
        "id": "rj118r16sFxR"
      },
      "execution_count": null,
      "outputs": []
    },
    {
      "cell_type": "code",
      "source": [
        "df_da.shape"
      ],
      "metadata": {
        "execution": {
          "iopub.status.busy": "2023-10-21T04:07:19.759023Z",
          "iopub.execute_input": "2023-10-21T04:07:19.75972Z",
          "iopub.status.idle": "2023-10-21T04:07:19.766232Z",
          "shell.execute_reply.started": "2023-10-21T04:07:19.759689Z",
          "shell.execute_reply": "2023-10-21T04:07:19.765075Z"
        },
        "trusted": true,
        "id": "2fAArYqFsFxR"
      },
      "execution_count": null,
      "outputs": []
    },
    {
      "cell_type": "code",
      "source": [
        "df_da.columns"
      ],
      "metadata": {
        "execution": {
          "iopub.status.busy": "2023-10-21T04:07:19.767667Z",
          "iopub.execute_input": "2023-10-21T04:07:19.768523Z",
          "iopub.status.idle": "2023-10-21T04:07:19.782349Z",
          "shell.execute_reply.started": "2023-10-21T04:07:19.768477Z",
          "shell.execute_reply": "2023-10-21T04:07:19.781485Z"
        },
        "trusted": true,
        "id": "2Kn3GauesFxS"
      },
      "execution_count": null,
      "outputs": []
    },
    {
      "cell_type": "code",
      "source": [
        "df_da.shape"
      ],
      "metadata": {
        "execution": {
          "iopub.status.busy": "2023-10-21T04:07:19.783642Z",
          "iopub.execute_input": "2023-10-21T04:07:19.784141Z",
          "iopub.status.idle": "2023-10-21T04:07:19.801191Z",
          "shell.execute_reply.started": "2023-10-21T04:07:19.784112Z",
          "shell.execute_reply": "2023-10-21T04:07:19.799831Z"
        },
        "trusted": true,
        "id": "PkbRFv4dsFxS"
      },
      "execution_count": null,
      "outputs": []
    },
    {
      "cell_type": "code",
      "source": [
        "df_da.drop(columns=['key'], inplace=True)\n",
        "df_da.head()"
      ],
      "metadata": {
        "execution": {
          "iopub.status.busy": "2023-10-21T04:07:19.802731Z",
          "iopub.execute_input": "2023-10-21T04:07:19.80396Z",
          "iopub.status.idle": "2023-10-21T04:07:19.841757Z",
          "shell.execute_reply.started": "2023-10-21T04:07:19.8039Z",
          "shell.execute_reply": "2023-10-21T04:07:19.840398Z"
        },
        "trusted": true,
        "id": "jPwlEsr_sFxT"
      },
      "execution_count": null,
      "outputs": []
    },
    {
      "cell_type": "code",
      "source": [
        "df_da.info()"
      ],
      "metadata": {
        "execution": {
          "iopub.status.busy": "2023-10-21T04:07:19.843701Z",
          "iopub.execute_input": "2023-10-21T04:07:19.844128Z",
          "iopub.status.idle": "2023-10-21T04:07:19.859224Z",
          "shell.execute_reply.started": "2023-10-21T04:07:19.844097Z",
          "shell.execute_reply": "2023-10-21T04:07:19.857413Z"
        },
        "trusted": true,
        "id": "GPFxdQHysFxT"
      },
      "execution_count": null,
      "outputs": []
    },
    {
      "cell_type": "code",
      "source": [
        "%whos"
      ],
      "metadata": {
        "execution": {
          "iopub.status.busy": "2023-10-21T04:07:19.861469Z",
          "iopub.execute_input": "2023-10-21T04:07:19.861828Z",
          "iopub.status.idle": "2023-10-21T04:07:20.212282Z",
          "shell.execute_reply.started": "2023-10-21T04:07:19.861796Z",
          "shell.execute_reply": "2023-10-21T04:07:20.211356Z"
        },
        "trusted": true,
        "id": "MDV8qDo9sFxT"
      },
      "execution_count": null,
      "outputs": []
    },
    {
      "cell_type": "code",
      "source": [
        "df_da.to_csv('df_data_features.csv', index=False)"
      ],
      "metadata": {
        "execution": {
          "iopub.status.busy": "2023-10-21T04:07:20.213515Z",
          "iopub.execute_input": "2023-10-21T04:07:20.214681Z",
          "iopub.status.idle": "2023-10-21T04:07:20.233097Z",
          "shell.execute_reply.started": "2023-10-21T04:07:20.214648Z",
          "shell.execute_reply": "2023-10-21T04:07:20.231525Z"
        },
        "trusted": true,
        "id": "gCj_ELkqsFxT"
      },
      "execution_count": null,
      "outputs": []
    },
    {
      "cell_type": "markdown",
      "source": [
        "\n",
        "\n",
        "\n",
        "\n",
        "\n",
        "## 2. Penjelasan Kode dan Output\n",
        "\n",
        "### a. Memuat dan Menyiapkan Data\n",
        "\n",
        "```python\n",
        "import pandas as pd\n",
        "import numpy as np\n",
        "import matplotlib.pyplot as plt\n",
        "import seaborn as sns\n",
        "from datetime import datetime\n",
        "\n",
        "# Memastikan visualisasi tampil langsung pada notebook\n",
        "%matplotlib inline\n",
        "\n",
        "# Memuat dataset dari GitHub\n",
        "url = 'https://raw.githubusercontent.com/farrelrassya/teachingMLDL/main/01.%20Machine%20Learning/05.%20Week%205/Datasets/netflix_titles.csv'\n",
        "df = pd.read_csv(url)\n",
        "\n",
        "# Menampilkan 5 baris pertama dataset\n",
        "df.head()\n",
        "```\n",
        "\n",
        "- **Tujuan**: Memuat dataset dari URL dan menampilkan 5 baris pertama untuk inspeksi awal.\n",
        "- **Output**: Tabel yang menunjukkan 5 entri pertama dari dataset, termasuk kolom seperti `title`, `type`, `release_year`, dan lainnya.\n",
        "\n",
        "### b. Konversi Tanggal dan Ekstraksi Fitur Waktu\n",
        "\n",
        "```python\n",
        "# Konversi 'date_added' ke format datetime dan membuat fitur baru: bulan dan tahun penambahan\n",
        "df['date_added'] = pd.to_datetime(df['date_added'], errors='coerce')\n",
        "df['added_month'] = df['date_added'].dt.month\n",
        "df['added_year'] = df['date_added'].dt.year\n",
        "```\n",
        "\n",
        "- **Tujuan**: Mengonversi kolom `date_added` menjadi format datetime dan mengekstrak bulan serta tahun penambahan sebagai fitur baru.\n",
        "- **Output**: Dua kolom baru, `added_month` dan `added_year`, yang menunjukkan bulan dan tahun masing-masing entri ditambahkan.\n",
        "\n",
        "### c. Ekstraksi Durasi\n",
        "\n",
        "```python\n",
        "# Feature Engineering untuk kolom 'duration'\n",
        "# Kita perlu mengekstrak durasi numerik dan satuan (min atau season)\n",
        "def parse_duration(x):\n",
        "    # Jika nilai NaN, kembalikan None\n",
        "    if pd.isna(x):\n",
        "        return None, None\n",
        "    # Pisahkan durasi dan satuan, misal \"90 min\" atau \"1 Season\"\n",
        "    parts = x.split()\n",
        "    if len(parts) == 2:\n",
        "        value = int(parts[0])\n",
        "        unit = parts[1]\n",
        "        return value, unit\n",
        "    else:\n",
        "        return None, None\n",
        "\n",
        "df[['duration_int','duration_unit']] = df['duration'].apply(lambda x: pd.Series(parse_duration(x)))\n",
        "\n",
        "# Tampilkan beberapa baris untuk verifikasi\n",
        "df[['duration', 'duration_int', 'duration_unit']].head()\n",
        "```\n",
        "\n",
        "- **Tujuan**: Mengekstrak durasi dari kolom `duration` menjadi dua kolom baru: `duration_int` (nilai numerik) dan `duration_unit` (satuan durasi).\n",
        "- **Output**: Dua kolom baru yang memisahkan durasi menjadi angka dan satuan, seperti menit atau season.\n",
        "\n",
        "---\n",
        "\n",
        "## 3. Penjelasan Persamaan Matematika\n",
        "![image.png](data:image/png;base64,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)\n",
        "\n",
        "\n",
        "## 4. Exploratory Data Analysis (EDA) dan Visualisasi Data\n",
        "\n",
        "### a. Distribusi Tipe Tayangan\n",
        "\n",
        "```python\n",
        "# Distribusi kategori pada 'type'\n",
        "plt.figure(figsize=(6,4))\n",
        "sns.countplot(data=df, x='type')\n",
        "plt.title(\"Distribusi Tipe Tayangan (Movie vs TV Show)\")\n",
        "plt.show()\n",
        "```\n",
        "\n",
        "- **Tujuan**: Menampilkan jumlah tayangan berdasarkan tipe (Movie atau TV Show).\n",
        "- **Output**: Grafik batang yang menunjukkan distribusi antara film dan acara TV.\n",
        "\n",
        "### b. Distribusi Tahun Rilis\n",
        "\n",
        "```python\n",
        "# Distribusi data tahun rilis\n",
        "plt.figure(figsize=(10,4))\n",
        "sns.histplot(df['release_year'], bins=30, kde=False)\n",
        "plt.title(\"Distribusi Tahun Rilis Tayangan\")\n",
        "plt.xlabel(\"Tahun Rilis\")\n",
        "plt.ylabel(\"Jumlah Tayangan\")\n",
        "plt.show()\n",
        "```\n",
        "\n",
        "- **Tujuan**: Menampilkan distribusi jumlah tayangan berdasarkan tahun rilis.\n",
        "- **Output**: Histogram yang menunjukkan frekuensi tayangan per tahun.\n",
        "\n",
        "### c. Visualisasi Durasi Film\n",
        "\n",
        "```python\n",
        "# Visualisasi durasi untuk Movie (dalam menit)\n",
        "plt.figure(figsize=(10,4))\n",
        "sns.histplot(df[df['type'] == 'Movie']['duration_int'].dropna(), bins=20, kde=False, color='skyblue')\n",
        "plt.title(\"Distribusi Durasi Film (dalam menit)\")\n",
        "plt.xlabel(\"Durasi (menit)\")\n",
        "plt.ylabel(\"Jumlah Film\")\n",
        "plt.show()\n",
        "```\n",
        "\n",
        "- **Tujuan**: Menampilkan distribusi durasi film dalam menit.\n",
        "- **Output**: Histogram yang menunjukkan frekuensi durasi film.\n",
        "\n",
        "---\n",
        "\n",
        "Untuk melanjutkan, Anda dapat mengakses notebook Kaggle tersebut dan menjalankan kode secara langsung untuk mendapatkan hasil visualisasi dan analisis yang lebih mendalam."
      ],
      "metadata": {
        "id": "oKMMbfosvCDC"
      }
    }
  ]
}